{
 "cells": [
  {
   "cell_type": "markdown",
   "id": "26116217",
   "metadata": {},
   "source": [
    "# Notes on RHIC 200 GeV Au-Au & d-Au experimental data\n",
    "\n",
    "The following are lists of all experimental data and uncertainties to be used in a 200 GeV RHIC AuAu and dAu Bayesian analysis run. Links to the relevant papers and HEPData entries are provided in each grouping's cell. \n",
    "\n",
    "Whenever available, the statistical and systematic uncertainties are added in quadrature in the notebook and the total (1 sigma) errors are printed out as variances in the format to be used in the Bayesian analysis.\n",
    "\n",
    "Whenever these basic uncertainty quantities are missing, each cell grouping specifies what is missing, what is available, and what was done to extract what is available into total uncertainties for each data bin.\n",
    "\n",
    "The (incomplete) bullet list below highlights some of the more unusual cases where the 1-sigma statistical and systematic errors were not available:\n",
    "\n",
    "- AuAu dNch/eta from BRAHMS reported only statistical uncertainties in HEPData, but upon closer inspection, showed \"total uncertainties\" reported for only three representative bins in a table in the paper. These were much larger than the stat errors in HEPData, so I chose to interpolate between those three values the errors for all the eta bins. This was also done for the \"large rapidity\" measurements in that same paper.The three bins provided were all at positive rapidity, so I reflected the interpolated values across the y-axis.\n",
    "<p> <br> </p>\n",
    "- AuAu v2(eta) from STAR did not report a breakdown of statistical or systematic uncertainties. There was no HEPData entry, and the data were taken from the STAR website. The reported errors were used as total uncertainties.\n",
    "<p> <br> </p>\n",
    "- AuAu v2(eta) from PHOBOS did not report a breakdown of statistical or systematic uncertainties. There was no HEPData entry, and the data were taken from the PHOBOS website. The reported uncertainties were given as \"90% confidence intervals\" so I scaled them by a factor of 1.645 to obtain the 1-sigma values. For some bins, the uncertainties were asymmetric. I chose the maximum value between the upper and lower bounds. The ultimately, for a couple of points at forward rapidity, the plot in the paper clearly contradicts the reported obseravble on the website for the mean values. The rest of the bins are consistent. For the questionable bins, I decided to use the points from the plot in the paper, and manually scoop them in an xy grid because they seemed more reasonable. The uncertainties seemed consistent in all cases between plot and website, but this issue in reporting casts a light shadow of doubt across all the data of this measurement.\n",
    "<p> <br> </p>\n",
    "- AuAu integrated v2 from STAR did not report a breakdown of statistical or systematic uncertainties. The reported errors were used as total uncertainties. Both data and uncertainties were reported as *percent* values.\n",
    "<p> <br> </p>\n",
    "- AuAu integrated v3 from STAR reported only statistical uncertainties in HEPData, but it is clear from the plot in the paper that the systematic uncertainties are significant. I relied on Derek Everett's scooping of these uncertainties from an xy grid of the plot used in the JETSCAPE 2D analysis (the link to them in Derek's github is provided in the relevant cell). \n",
    "<p> <br> </p>\n",
    "- AuAu Identified particle (pion and anti-pion) mean-pT from PHENIX reported only systematic uncertainties in HEPData. Judging from the plot, the statistical uncertainties are large enough and may need to be scooped in the case of protons, but for pions this is impossible as the uncertainties are covered by the markers. Therefore I treat them as not significant. Furthermore, the data is averaged in the cell between pions and anti-pions (for analysis-specific purposes) without any weights. While the uncertainties, since only the systematics are relevant, are approximated as completely correlated and the individual uncertainties are simply summed (and then divided by 2).\n",
    "<p> <br> </p>\n",
    "- dAu dNch/deta from PHOBOS reported only systematic uncertainties. There was no HEPData entry, and the data were taken from the PHOBOS website. The paper specified that statistical uncertainties were negligible. As in the other PHOBOS measurement, the reported uncertainties were given as \"90% confidence intervals\" so I again scaled them by a factor of 1.645 to obtain the 1-sigma values.\n",
    "\n",
    "\n",
    "### PS: the printed lists below show the observable value and the *variance* for that measured bin.\n",
    "\n"
   ]
  },
  {
   "cell_type": "code",
   "execution_count": 1,
   "id": "ff48f111",
   "metadata": {},
   "outputs": [],
   "source": [
    "\n",
    "import numpy as np\n"
   ]
  },
  {
   "cell_type": "markdown",
   "id": "f82559a7",
   "metadata": {},
   "source": [
    "## Au-Au 200 GeV"
   ]
  },
  {
   "cell_type": "markdown",
   "id": "bcee05d7",
   "metadata": {},
   "source": [
    "### dNch/deta BRAHMS"
   ]
  },
  {
   "cell_type": "code",
   "execution_count": 2,
   "id": "8942803c",
   "metadata": {},
   "outputs": [],
   "source": [
    "# paper: https://arxiv.org/pdf/nucl-ex/0112001\n",
    "# HEPData: https://www.hepdata.net/record/ins567754 (table 1a)\n",
    "\n",
    "bins = [-2.85,-2.55,-2.25,-1.950,-1.65,-1.35,-1.06,-0.756,-0.4540,-0.153,0.149,0.4510,0.755,1.06,1.360,1.660,1.950,2.25,2.54,2.85]\n"
   ]
  },
  {
   "cell_type": "code",
   "execution_count": 3,
   "id": "059593a6",
   "metadata": {},
   "outputs": [],
   "source": [
    "# 0-5% cent - sys not specified, total given only for a few points\n",
    "\n",
    "data = np.array([510.0,539.0,567.0,596.0,621.0,640.0,638.0,636.0,619.0,619.0,627.0,631.0,636.0,629.0,627.0,620.0,597.0,569.0,546.0,520.0])\n",
    "stat = np.array([4.3,3.9,3.9,4.2,4.5,5.2,5.8,6.2,6.3,6.5,6.8,6.7,6.3,5.6,5.0,4.7,4.4,4.1,4.2,5.7])\n",
    "sys = np.array([0,0,0,0,0,0,0,0,0,0,0,0,0,0,0,0,0,0,0,0])\n",
    "#tot = np.sqrt(stat**2 + sys**2)\n",
    "\n",
    "# interpolate with the data provided in Table 1\n",
    "tot_plus = np.interp(bins[int(0.5*len(bins)):],[0,3,4.5],[55,44,22])\n",
    "# reflect for the backward rapidity side\n",
    "tot_minus = tot_plus[::-1]\n",
    "# combine into final array\n",
    "tot = np.concatenate([tot_minus,tot_plus])\n",
    "\n",
    "for i in range(len(data)):\n",
    "    print(str(data[i]) + ' ' + str(np.round(tot[i]**2,10)))"
   ]
  },
  {
   "cell_type": "code",
   "execution_count": 4,
   "id": "68e124a5",
   "metadata": {},
   "outputs": [],
   "source": [
    "# 5-10% cent - sys not specified, total given only for a few points\n",
    "\n",
    "data = np.array([427.0,446.0,472.0,494.0,513.0,536.0,519.0,511.0,502.0,496.0,500.0,505.0,500.0,501.0,508.0,504.0,481.0,464.0,447.0,442.0])\n",
    "stat = np.array([3.6,3.3,3.4,3.6,4.1,4.9,5.0,5.5,5.6,5.7,5.8,5.8,5.1,4.8,4.4,4.1,3.8,3.7,3.8,5.2])\n",
    "sys = np.array([0,0,0,0,0,0,0,0,0,0,0,0,0,0,0,0,0,0,0,0])\n",
    "#tot = np.sqrt(stat**2 + sys**2)\n",
    "\n",
    "# interpolate with the data provided in Table 1\n",
    "tot_plus = np.interp(bins[int(0.5*len(bins)):],[0,3,4.5],[44,37,18])\n",
    "# reflect for the backward rapidity side\n",
    "tot_minus = tot_plus[::-1]\n",
    "# combine into final array\n",
    "tot = np.concatenate([tot_minus,tot_plus])\n",
    "\n",
    "for i in range(len(data)):\n",
    "    print(str(data[i]) + ' ' + str(np.round(tot[i]**2,10)))"
   ]
  },
  {
   "cell_type": "code",
   "execution_count": 5,
   "id": "084fd432",
   "metadata": {},
   "outputs": [],
   "source": [
    "# 10-20% cent - sys not specified, total given only for a few points\n",
    "\n",
    "data = np.array([333.0,340.0,357.0,375.0,392.0,391.0,394.0,386.0,386.0,373.0,376.0,374.0,380.0,389.0,387.0,374.0,371.0,351.0,345.0,337.0])\n",
    "stat = np.array([2.2,1.9,2.0,2.3,2.5,2.7,3.1,3.3,3.6,3.6,3.5,3.5,3.3,3.3,2.8,2.4,2.5,2.3,2.4,3.1])\n",
    "sys = np.array([0,0,0,0,0,0,0,0,0,0,0,0,0,0,0,0,0,0,0,0])\n",
    "#tot = np.sqrt(stat**2 + sys**2)\n",
    "\n",
    "# interpolate with the data provided in Table 1\n",
    "tot_plus = np.interp(bins[int(0.5*len(bins)):],[0,3,4.5],[33,28,14])\n",
    "# reflect for the backward rapidity side\n",
    "tot_minus = tot_plus[::-1]\n",
    "# combine into final array\n",
    "tot = np.concatenate([tot_minus,tot_plus])\n",
    "\n",
    "for i in range(len(data)):\n",
    "    print(str(data[i]) + ' ' + str(np.round(tot[i]**2,10)))"
   ]
  },
  {
   "cell_type": "code",
   "execution_count": 6,
   "id": "97077c81",
   "metadata": {},
   "outputs": [],
   "source": [
    "# 20-30% cent - sys not specified, total given only for a few points\n",
    "\n",
    "data = np.array([232.0,239.0,249.0,260.0,270.0,270.0,270.0,265.0,258.0,259.0,255.0,256.0,260.0,260.0,266.0,262.0,257.0,252.0,240.0,236.0])\n",
    "stat = np.array([1.9,1.7,1.8,1.9,2.2,2.3,2.6,2.8,2.7,3.0,2.9,2.7,2.7,2.4,2.4,2.1,2.0,2.0,2.0,2.6])\n",
    "sys = np.array([0,0,0,0,0,0,0,0,0,0,0,0,0,0,0,0,0,0,0,0])\n",
    "#tot = np.sqrt(stat**2 + sys**2)\n",
    "\n",
    "# interpolate with the data provided in Table 1\n",
    "tot_plus = np.interp(bins[int(0.5*len(bins)):],[0,3,4.5],[23,17,10])\n",
    "# reflect for the backward rapidity side\n",
    "tot_minus = tot_plus[::-1]\n",
    "# combine into final array\n",
    "tot = np.concatenate([tot_minus,tot_plus])\n",
    "\n",
    "for i in range(len(data)):\n",
    "    print(str(data[i]) + ' ' + str(np.round(tot[i]**2,10)))"
   ]
  },
  {
   "cell_type": "code",
   "execution_count": 7,
   "id": "730f0f25",
   "metadata": {},
   "outputs": [],
   "source": [
    "# 30-40% cent - sys not specified, total given only for a few points\n",
    "\n",
    "data = np.array([163.0,166.0,172.0,179.0,183.0,182.0,185.0,175.0,174.0,174.0,173.0,175.0,174.0,175.0,184.0,178.0,177.0,173.0,167.0,165.0])\n",
    "stat = np.array([1.6,1.4,1.5,1.6,1.8,2.0,2.2,2.2,2.4,2.6,2.5,2.4,2.3,2.1,2.1,1.8,1.7,1.6,1.6,2.1])\n",
    "sys = np.array([0,0,0,0,0,0,0,0,0,0,0,0,0,0,0,0,0,0,0,0])\n",
    "#tot = np.sqrt(stat**2 + sys**2)\n",
    "\n",
    "# interpolate with the data provided in Table 1\n",
    "tot_plus = np.interp(bins[int(0.5*len(bins)):],[0,3,4.5],[16,14,7])\n",
    "# reflect for the backward rapidity side\n",
    "tot_minus = tot_plus[::-1]\n",
    "# combine into final array\n",
    "tot = np.concatenate([tot_minus,tot_plus])\n",
    "\n",
    "for i in range(len(data)):\n",
    "    print(str(data[i]) + ' ' + str(np.round(tot[i]**2,10)))"
   ]
  },
  {
   "cell_type": "code",
   "execution_count": 8,
   "id": "de82ca9d",
   "metadata": {},
   "outputs": [],
   "source": [
    "# 40-50% cent - sys not specified, total given only for a few points\n",
    "\n",
    "data = np.array([105.0,109.0,116.0,118.0,118.0,119.0,116.0,110.0,110.0,110.0,111.0,108.0,110.0,117.0,113.0,116.0,117.0,113.0,113.0,106.0])\n",
    "stat = np.array([1.2,1.0,1.2,1.3,1.4,1.6,1.6,1.8,1.9,2.1,2.1,1.9,1.7,1.9,1.5,1.4,1.4,1.2,1.3,1.5])\n",
    "sys = np.array([0,0,0,0,0,0,0,0,0,0,0,0,0,0,0,0,0,0,0,0])\n",
    "#tot = np.sqrt(stat**2 + sys**2)\n",
    "\n",
    "# interpolate with the data provided in Table 1\n",
    "tot_plus = np.interp(bins[int(0.5*len(bins)):],[0,3,4.5],[10,9,5])\n",
    "# reflect for the backward rapidity side\n",
    "tot_minus = tot_plus[::-1]\n",
    "# combine into final array\n",
    "tot = np.concatenate([tot_minus,tot_plus])\n",
    "\n",
    "for i in range(len(data)):\n",
    "    print(str(data[i]) + ' ' + str(np.round(tot[i]**2,10)))"
   ]
  },
  {
   "cell_type": "markdown",
   "id": "ddcf4cb5",
   "metadata": {},
   "source": [
    "### dNch/deta BRAHMS large rapidity"
   ]
  },
  {
   "cell_type": "code",
   "execution_count": 9,
   "id": "a48ce2f8",
   "metadata": {},
   "outputs": [],
   "source": [
    "# paper: https://arxiv.org/pdf/nucl-ex/0112001\n",
    "# HEPData: https://www.hepdata.net/record/ins567754 (table 1b)\n",
    "\n",
    "bins = [-4.7,-4.3,-4.0,-3.8,-3.5,-3.10,-2.90,-2.5,2.5,2.90,3.10,3.5,3.8,4.0,4.3,4.7]\n"
   ]
  },
  {
   "cell_type": "code",
   "execution_count": 10,
   "id": "9cf97a28",
   "metadata": {},
   "outputs": [],
   "source": [
    "# 0-5% cent - systematics not specified, total uncert. given only for a few points\n",
    "\n",
    "data = np.array([166.0,198.0,259.0,332.0,366.0,429.0,477.0,512.0,553.0,492.0,443.0,394.0,338.0,273.0,199.0,154.0])\n",
    "stat = np.array([1.2,5.3,19.0,15.0,17.0,14.0,8.9,9.9,13.0,22.0,14.0,11.0,2.4,14.0,5.4,1.9])\n",
    "sys = np.array([0,0,0,0,0,0,0,0,0,0,0,0,0,0,0,0,0,0,0,0])\n",
    "#tot = np.sqrt(stat**2 + sys**2)\n",
    "\n",
    "# interpolate with the data provided in Table 1 \n",
    "# largest |eta| bin outside interpolation range, will over estimate uncertainty\n",
    "tot_plus = np.interp(bins[int(0.5*len(bins)):],[0,3,4.5],[55,44,22])\n",
    "# reflect for the backward rapidity side\n",
    "tot_minus = tot_plus[::-1]\n",
    "# combine into final array\n",
    "tot = np.concatenate([tot_minus,tot_plus])\n",
    "\n",
    "for i in range(len(data)):\n",
    "    print(str(data[i]) + ' ' + str(np.round(tot[i]**2,10)))"
   ]
  },
  {
   "cell_type": "code",
   "execution_count": 11,
   "id": "619a84f6",
   "metadata": {},
   "outputs": [],
   "source": [
    "# 5-10% cent - systematics not specified, total uncert. given only for a few points\n",
    "\n",
    "data = np.array([139.0,172.0,220.0,279.0,309.0,364.0,401.0,432.0,447.0,413.0,373.0,334.0,285.0,234.0,173.0,139.0])\n",
    "stat = np.array([1.2,3.6,15.0,13.0,13.0,13.0,8.2,6.8,9.5,15.0,7.1,7.5,3.2,9.6,5.5,1.7])\n",
    "sys = np.array([0,0,0,0,0,0,0,0,0,0,0,0,0,0,0,0,0,0,0,0])\n",
    "#tot = np.sqrt(stat**2 + sys**2)\n",
    "\n",
    "# interpolate with the data provided in Table 1 \n",
    "# largest |eta| bin outside interpolation range, will over estimate uncertainty\n",
    "tot_plus = np.interp(bins[int(0.5*len(bins)):],[0,3,4.5],[44,37,18])\n",
    "# reflect for the backward rapidity side\n",
    "tot_minus = tot_plus[::-1]\n",
    "# combine into final array\n",
    "tot = np.concatenate([tot_minus,tot_plus])\n",
    "\n",
    "for i in range(len(data)):\n",
    "    print(str(data[i]) + ' ' + str(np.round(tot[i]**2,10)))"
   ]
  },
  {
   "cell_type": "code",
   "execution_count": 12,
   "id": "4c917f16",
   "metadata": {},
   "outputs": [],
   "source": [
    "# 10-20% cent - systematics not specified, total uncert. given only for a few points\n",
    "\n",
    "data = np.array([115.0,137.0,172.0,217.0,242.0,284.0,315.0,336.0,348.0,320.0,291.0,262.0,224.0,182.0,135.0,112.0])\n",
    "stat = np.array([0.77,2.1,9.4,8.7,7.9,7.1,3.7,5.8,10.0,9.3,5.7,5.6,4.7,7.9,3.2,1.1])\n",
    "sys = np.array([0,0,0,0,0,0,0,0,0,0,0,0,0,0,0,0,0,0,0,0])\n",
    "#tot = np.sqrt(stat**2 + sys**2)\n",
    "\n",
    "# interpolate with the data provided in Table 1 \n",
    "# largest |eta| bin outside interpolation range, will over estimate uncertainty\n",
    "tot_plus = np.interp(bins[int(0.5*len(bins)):],[0,3,4.5],[33,28,14])\n",
    "# reflect for the backward rapidity side\n",
    "tot_minus = tot_plus[::-1]\n",
    "# combine into final array\n",
    "tot = np.concatenate([tot_minus,tot_plus])\n",
    "\n",
    "for i in range(len(data)):\n",
    "    print(str(data[i]) + ' ' + str(np.round(tot[i]**2,10)))"
   ]
  },
  {
   "cell_type": "code",
   "execution_count": 13,
   "id": "6256a017",
   "metadata": {},
   "outputs": [],
   "source": [
    "# 20-30% cent - systematics not specified, total uncert. given only for a few points\n",
    "\n",
    "data = np.array([82.2,100.0,121.0,151.0,171.0,200.0,222.0,235.0,239.0,224.0,205.0,185.0,159.0,127.0,97.5,79.6])\n",
    "stat = np.array([0.68,1.6,5.9,5.1,3.4,3.4,2.7,6.6,9.3,6.5,4.4,5.3,5.3,6.3,2.2,0.92])\n",
    "sys = np.array([0,0,0,0,0,0,0,0,0,0,0,0,0,0,0,0,0,0,0,0])\n",
    "#tot = np.sqrt(stat**2 + sys**2)\n",
    "\n",
    "# interpolate with the data provided in Table 1 \n",
    "# largest |eta| bin outside interpolation range, will over estimate uncertainty\n",
    "tot_plus = np.interp(bins[int(0.5*len(bins)):],[0,3,4.5],[23,17,10])\n",
    "# reflect for the backward rapidity side\n",
    "tot_minus = tot_plus[::-1]\n",
    "# combine into final array\n",
    "tot = np.concatenate([tot_minus,tot_plus])\n",
    "\n",
    "for i in range(len(data)):\n",
    "    print(str(data[i]) + ' ' + str(np.round(tot[i]**2,10)))"
   ]
  },
  {
   "cell_type": "code",
   "execution_count": 14,
   "id": "6d22486d",
   "metadata": {},
   "outputs": [],
   "source": [
    "# 30-40% cent - systematics not specified, total uncert. given only for a few points\n",
    "\n",
    "data = np.array([59.1,70.1,84.2,102.0,116.0,136.0,150.0,158.0,162.0,151.0,139.0,127.0,108.0,86.4,68.4,56.5])\n",
    "stat = np.array([0.57,0.58,3.0,2.8,2.0,2.9,3.3,5.7,4.9,5.1,4.0,4.6,4.6,4.7,1.5,0.75])\n",
    "sys = np.array([0,0,0,0,0,0,0,0,0,0,0,0,0,0,0,0,0,0,0,0])\n",
    "#tot = np.sqrt(stat**2 + sys**2)\n",
    "\n",
    "# interpolate with the data provided in Table 1 \n",
    "# largest |eta| bin outside interpolation range, will over estimate uncertainty\n",
    "tot_plus = np.interp(bins[int(0.5*len(bins)):],[0,3,4.5],[16,14,7])\n",
    "# reflect for the backward rapidity side\n",
    "tot_minus = tot_plus[::-1]\n",
    "# combine into final array\n",
    "tot = np.concatenate([tot_minus,tot_plus])\n",
    "\n",
    "for i in range(len(data)):\n",
    "    print(str(data[i]) + ' ' + str(np.round(tot[i]**2,10)))"
   ]
  },
  {
   "cell_type": "code",
   "execution_count": 15,
   "id": "f0142489",
   "metadata": {
    "scrolled": false
   },
   "outputs": [],
   "source": [
    "# 40-50% cent - systematics not specified, total uncert. given only for a few points\n",
    "\n",
    "data = np.array([40.3,46.7,54.7,66.2,74.3,86.8,96.2,102.0,100.0,96.3,89.4,81.8,70.2,57.6,45.3,37.9])\n",
    "stat = np.array([0.47,0.6,1.5,1.7,0.84,1.7,1.2,1.8,3.6,2.8,3.2,3.3,3.3,3.2,0.62,0.61])\n",
    "sys = np.array([0,0,0,0,0,0,0,0,0,0,0,0,0,0,0,0,0,0,0,0])\n",
    "#tot = np.sqrt(stat**2 + sys**2)\n",
    "\n",
    "# interpolate with the data provided in Table 1 \n",
    "# largest |eta| bin outside interpolation range, will over estimate uncertainty\n",
    "tot_plus = np.interp(bins[int(0.5*len(bins)):],[0,3,4.5],[10,9,5])\n",
    "# reflect for the backward rapidity side\n",
    "tot_minus = tot_plus[::-1]\n",
    "# combine into final array\n",
    "tot = np.concatenate([tot_minus,tot_plus])\n",
    "\n",
    "for i in range(len(data)):\n",
    "    print(str(data[i]) + ' ' + str(np.round(tot[i]**2,10)))"
   ]
  },
  {
   "cell_type": "markdown",
   "id": "8eb98889",
   "metadata": {},
   "source": [
    "### dNch/deta PHOBOS"
   ]
  },
  {
   "cell_type": "code",
   "execution_count": 16,
   "id": "a71032cf",
   "metadata": {},
   "outputs": [],
   "source": [
    "# paper: https://arxiv.org/pdf/1011.1940\n",
    "# HEPData: N/A\n",
    "# PHOBOS website: https://www.sdcc.bnl.gov/phobos/Publications/Physics/BigMult/Data/AA/AuAu_200GeV_Centrality_0-3.txt\n",
    "# (update the url for different centrality bins)\n",
    "\n",
    "bins = [-5.3, -5.1, -4.9, -4.7, -4.5, -4.3, -4.1, -3.9, -3.7, -3.5, -3.3, -3.1, -2.9, -2.7, -2.5, -2.3, -2.1, -1.9, -1.7, -1.5, -1.3, -1.1, -0.9, -0.7, -0.5, -0.3, -0.1, 0.1, 0.3, 0.5, 0.7, 0.9, 1.1, 1.3, 1.5, 1.7, 1.9, 2.1, 2.3, 2.5, 2.7, 2.9, 3.1, 3.3, 3.5, 3.7, 3.9, 4.1, 4.3, 4.5, 4.7, 4.9, 5.1, 5.3]\n"
   ]
  },
  {
   "cell_type": "code",
   "execution_count": 17,
   "id": "c79bcf42",
   "metadata": {},
   "outputs": [],
   "source": [
    "# 0-3% cent - systematics not specified, total uncert. given only for a few points\n",
    "\n",
    "data = np.array([75.692505,90.281624,119.057579,151.716873,178.152969,230.907578,269.672028,306.171844,358.351746,404.132111,436.306763,490.547882,540.784241,570.156677,599.570190,623.713379,644.024292,672.694946,683.087891,680.274170,682.567139,676.896179,681.272156,675.285034,658.730835,673.688232,667.035828,667.697815,674.310852,657.942993,669.506165,670.811584,675.241821,679.236938,683.920349,682.991577,672.087463,660.751160,634.857605,606.951660,588.945557,539.689087,499.566071,453.511444,418.197266,365.231079,318.414673,274.387665,233.747589,188.432129,150.708405,119.180840,95.168541,71.468575])\n",
    "stat = np.array([0, 0, 0, 0, 0, 0, 0, 0, 0, 0, 0, 0, 0, 0, 0, 0, 0, 0, 0, 0, 0, 0, 0, 0, 0, 0, 0, 0, 0, 0, 0, 0, 0, 0, 0, 0, 0, 0, 0, 0, 0, 0, 0, 0, 0, 0, 0, 0, 0, 0, 0, 0, 0, 0])\n",
    "# reported error is asymmetric, taking the max of upper and lower values\n",
    "sys = np.array([18.552769,25.835495,24.936958,30.877167,36.747299,43.342056,41.652237,49.061310,48.836395,54.983948,72.986694,65.631561,55.006531,65.546204,67.628784,69.333313,69.452454,80.807617,82.538391,73.968201,66.863647,72.524963,70.276001,67.738831,79.899475,66.315979,66.774109,66.665405,66.938599,80.687317,73.517700,76.184448,74.179321,69.580872,77.614380,82.442078,80.200134,80.981445,71.247498,64.117249,71.974548,58.886169,56.613312,55.781952,54.118591,47.259003,46.413635,46.367966,46.182068,36.756302,26.176483,24.813698,20.948517,21.427971])\n",
    "\n",
    "tot_90percent = np.sqrt(stat**2 + sys**2)\n",
    "tot = tot_90percent/1.645 # scale according to 1.645*sigma = err_90percent\n",
    "\n",
    "\n",
    "for i in range(len(data)):\n",
    "    print(str(data[i]) + ' ' + str(np.round(tot[i]**2,10)))"
   ]
  },
  {
   "cell_type": "code",
   "execution_count": 18,
   "id": "2a58b08b",
   "metadata": {},
   "outputs": [],
   "source": [
    "# 3-6% cent - systematics not specified, total uncert. given only for a few points\n",
    "\n",
    "data = np.array([68.89167, 87.646851, 114.599518, 143.192917, 168.032104, 216.120316, 255.283249, 289.568878, 332.29895, 371.625916, 404.660492, 453.453217, 498.213684, 522.998657, 546.30542, 576.874756, 590.601318, 610.970032, 623.061951, 624.308716, 628.450317, 629.406128, 624.227173, 619.74707, 616.644958, 625.843872, 618.160706, 613.323853, 621.076111, 611.132507, 613.109863, 617.432495, 616.707153, 628.632263, 629.132935, 622.706604, 608.741028, 599.421082, 580.633667, 548.772644, 532.932678, 494.223267, 461.215546, 417.839844, 386.025726, 334.26535, 293.271637, 250.700287, 216.493835, 177.132996, 145.103882, 116.757294, 91.507233, 74.297058])\n",
    "stat = np.array([0, 0, 0, 0, 0, 0, 0, 0, 0, 0, 0, 0, 0, 0, 0, 0, 0, 0, 0, 0, 0, 0, 0, 0, 0, 0, 0, 0, 0, 0, 0, 0, 0, 0, 0, 0, 0, 0, 0, 0, 0, 0, 0, 0, 0, 0, 0, 0, 0, 0, 0, 0, 0, 0])\n",
    "# reported error is asymmetric, taking the max of upper and lower values\n",
    "sys = np.array([23.492661, 26.413048, 25.154343, 28.92025, 35.934174, 39.873871, 41.726212, 38.897797, 41.93927, 48.404755, 59.789062, 52.773682, 50.232819, 55.097412, 60.797913, 58.551636, 60.093201, 66.776367, 70.762695, 66.44873, 67.126099, 66.303345, 62.087219, 63.500732, 63.06189, 64.006836, 57.890747, 62.7276, 59.239075, 68.574341, 70.137939, 68.881897, 71.161316, 67.308044, 71.272949, 70.407349, 64.547363, 66.375061, 62.310547, 58.330688, 56.799988, 50.1203, 46.089996, 46.60965, 48.149719, 39.97287, 39.34639, 37.143356, 40.247391, 26.833282, 30.831284, 26.590332, 22.552605, 19.806652])\n",
    "\n",
    "tot_90percent = np.sqrt(stat**2 + sys**2)\n",
    "tot = tot_90percent/1.645 # scale according to 1.645*sigma = err_90percent\n",
    "\n",
    "\n",
    "for i in range(len(data)):\n",
    "    print(str(data[i]) + ' ' + str(np.round(tot[i]**2,10)))"
   ]
  },
  {
   "cell_type": "code",
   "execution_count": 19,
   "id": "35bb555b",
   "metadata": {},
   "outputs": [],
   "source": [
    "# 6-10% cent - systematics not specified, total uncert. given only for a few points\n",
    "\n",
    "data = np.array([66.552315, 81.143486, 105.073273, 132.410583, 155.094833, 192.098938, 227.808228, 257.933594, 292.328156, 330.815521, 358.876709, 406.713531, 435.704803, 461.414124, 485.904663, 508.736267, 519.503906, 537.04126, 542.211426, 552.656616, 548.225464, 542.598145, 546.857117, 539.963806, 539.454895, 536.338318, 550.328247, 543.212463, 546.471252, 538.235718, 540.873413, 553.052917, 542.851868, 544.876831, 547.593262, 544.183167, 535.575623, 516.764038, 506.960144, 488.169678, 466.863251, 443.45285, 416.901611, 377.780212, 345.313049, 304.247742, 261.524475, 226.656876, 193.633987, 158.6073, 130.937469, 107.30011, 85.623856, 66.197273])\n",
    "stat = np.array([0, 0, 0, 0, 0, 0, 0, 0, 0, 0, 0, 0, 0, 0, 0, 0, 0, 0, 0, 0, 0, 0, 0, 0, 0, 0, 0, 0, 0, 0, 0, 0, 0, 0, 0, 0, 0, 0, 0, 0, 0, 0, 0, 0, 0, 0, 0, 0, 0, 0, 0, 0, 0, 0])\n",
    "# reported error is asymmetric, taking the max of upper and lower values\n",
    "sys = np.array([18.040314, 23.216248, 22.652512, 27.912529, 30.685898, 33.188553, 36.451706, 38.897797, 44.797394, 46.322723, 56.778412, 44.891907, 48.454987, 51.361389, 51.285583, 53.578308, 53.971924, 59.142242, 57.228821, 62.89328, 54.440369, 60.293335, 54.321838, 58.247742, 55.431641, 55.924927, 59.092255, 51.976471, 55.043671, 56.650879, 57.338135, 59.049164, 60.039612, 57.789001, 57.829926, 59.200562, 57.676605, 56.711792, 51.802185, 49.519867, 48.625153, 49.700562, 51.60968, 44.467438, 46.652039, 41.723419, 35.306885, 35.30043, 34.723602, 27.173431, 23.934341, 20.425674, 18.735825, 18.395355])\n",
    "\n",
    "tot_90percent = np.sqrt(stat**2 + sys**2)\n",
    "tot = tot_90percent/1.645 # scale according to 1.645*sigma = err_90percent\n",
    "\n",
    "\n",
    "for i in range(len(data)):\n",
    "    print(str(data[i]) + ' ' + str(np.round(tot[i]**2,10)))"
   ]
  },
  {
   "cell_type": "code",
   "execution_count": 20,
   "id": "07eed527",
   "metadata": {},
   "outputs": [],
   "source": [
    "# 10-15% cent - systematics not specified, total uncert. given only for a few points\n",
    "\n",
    "data = np.array([62.266682, 75.901955, 95.732384, 118.414955, 139.675171, 169.380569, 198.873245, 219.899948, 255.162186, 285.861542, 312.427917, 348.88504, 374.343811, 393.79306, 414.179504, 430.310211, 438.514313, 455.613708, 465.546295, 470.603699, 470.187927, 471.311584, 463.689178, 465.068848, 462.258728, 456.643127, 458.22583, 460.848511, 461.233063, 456.373718, 464.520935, 462.143951, 464.447296, 467.416901, 469.908325, 463.232422, 455.347626, 445.483917, 434.61377, 414.737671, 392.173981, 373.014435, 359.526581, 323.299316, 294.622528, 259.716553, 226.878723, 198.70874, 171.365479, 140.083511, 116.670486, 96.030296, 78.311104, 64.196358])\n",
    "stat = np.array([0, 0, 0, 0, 0, 0, 0, 0, 0, 0, 0, 0, 0, 0, 0, 0, 0, 0, 0, 0, 0, 0, 0, 0, 0, 0, 0, 0, 0, 0, 0, 0, 0, 0, 0, 0, 0, 0, 0, 0, 0, 0, 0, 0, 0, 0, 0, 0, 0, 0, 0, 0, 0, 0])\n",
    "# reported error is asymmetric, taking the max of upper and lower values\n",
    "sys = np.array([15.000114, 18.578873, 20.029732, 24.014908, 24.479874, 28.210709, 30.195938, 37.194412, 35.343582, 37.754578, 43.051758, 36.377472, 37.969574, 42.403992, 42.510925, 43.440125, 48.952942, 48.239288, 52.199402, 53.231293, 50.431671, 50.518219, 48.54184, 44.964172, 44.983429, 48.51767, 46.304535, 42.666656, 42.872589, 50.868439, 45.378876, 50.087067, 49.026703, 47.660645, 52.535919, 49.885529, 47.973206, 46.355042, 46.34317, 41.952728, 44.023071, 39.29892, 45.953735, 32.180328, 36.250977, 30.789215, 30.215607, 30.031509, 30.195618, 24.071533, 21.245178, 18.641594, 16.169678, 16.92979])\n",
    "\n",
    "tot_90percent = np.sqrt(stat**2 + sys**2)\n",
    "tot = tot_90percent/1.645 # scale according to 1.645*sigma = err_90percent\n",
    "\n",
    "\n",
    "for i in range(len(data)):\n",
    "    print(str(data[i]) + ' ' + str(np.round(tot[i]**2,10)))"
   ]
  },
  {
   "cell_type": "code",
   "execution_count": 21,
   "id": "7ce7c6b6",
   "metadata": {},
   "outputs": [],
   "source": [
    "# 15-20% cent - systematics not specified, total uncert. given only for a few points\n",
    "\n",
    "data = np.array([54.036411, 64.642853, 79.989861, 102.558601, 117.885277, 144.438644, 169.591827, 189.421356, 217.308289, 239.79628, 264.845367, 293.845337, 310.750702, 327.265289, 341.867035, 355.774994, 366.371979, 376.419739, 384.885651, 386.758514, 386.586029, 387.487213, 387.127563, 388.420349, 383.504913, 381.801727, 377.167084, 379.746979, 380.561584, 385.319244, 383.413147, 386.578918, 386.006348, 386.889374, 381.670563, 377.01886, 375.869873, 370.366089, 359.696899, 346.070648, 329.812164, 311.350769, 301.909454, 277.433777, 251.136673, 216.640625, 192.928421, 167.411911, 144.679352, 119.053421, 99.394302, 84.29689, 66.683052, 54.59211])\n",
    "stat = np.array([0, 0, 0, 0, 0, 0, 0, 0, 0, 0, 0, 0, 0, 0, 0, 0, 0, 0, 0, 0, 0, 0, 0, 0, 0, 0, 0, 0, 0, 0, 0, 0, 0, 0, 0, 0, 0, 0, 0, 0, 0, 0, 0, 0, 0, 0, 0, 0, 0, 0, 0, 0, 0, 0])\n",
    "# reported error is asymmetric, taking the max of upper and lower values\n",
    "sys = np.array([14.516613, 17.245544, 19.109116, 22.54805, 23.065498, 24.319298, 26.059982, 29.010635, 28.651581, 33.285141, 34.193237, 30.888672, 34.251556, 36.925812, 38.725922, 38.420776, 38.716675, 40.602631, 44.370605, 42.921722, 38.450348, 37.720215, 36.912323, 40.395691, 36.216095, 36.133636, 40.197906, 37.618011, 37.373779, 37.419037, 38.589905, 38.670746, 39.20108, 40.859863, 41.513702, 42.368988, 40.052795, 40.90094, 38.54126, 34.522278, 34.378937, 33.651489, 38.95282, 35.701569, 32.761505, 29.319244, 25.50354, 23.880127, 24.560005, 21.897354, 19.419571, 20.368446, 15.205307, 15.072311])\n",
    "\n",
    "tot_90percent = np.sqrt(stat**2 + sys**2)\n",
    "tot = tot_90percent/1.645 # scale according to 1.645*sigma = err_90percent\n",
    "\n",
    "\n",
    "for i in range(len(data)):\n",
    "    print(str(data[i]) + ' ' + str(np.round(tot[i]**2,10)))"
   ]
  },
  {
   "cell_type": "code",
   "execution_count": 22,
   "id": "166fc509",
   "metadata": {},
   "outputs": [],
   "source": [
    "# 20-25% cent - systematics not specified, total uncert. given only for a few points\n",
    "\n",
    "data = np.array([49.332485, 56.166317, 71.554466, 88.470474, 99.953392, 122.524422, 144.828461, 161.51268, 182.207199, 203.899902, 219.540192, 249.507217, 257.104675, 272.498566, 284.199615, 296.216644, 305.237976, 315.829865, 317.560883, 321.662933, 319.209839, 317.459137, 320.981079, 317.111542, 315.959534, 318.599426, 316.49527, 316.479492, 313.533783, 313.489319, 314.660583, 315.351776, 313.832275, 316.202515, 315.296753, 317.296844, 310.707367, 306.974579, 294.912567, 285.584045, 271.445312, 258.138092, 251.260391, 228.72522, 207.020126, 181.621292, 163.608383, 142.195663, 121.320702, 104.312622, 87.0923, 72.900864, 59.988514, 51.397297])\n",
    "stat = np.array([0, 0, 0, 0, 0, 0, 0, 0, 0, 0, 0, 0, 0, 0, 0, 0, 0, 0, 0, 0, 0, 0, 0, 0, 0, 0, 0, 0, 0, 0, 0, 0, 0, 0, 0, 0, 0, 0, 0, 0, 0, 0, 0, 0, 0, 0, 0, 0, 0, 0, 0, 0, 0, 0])\n",
    "# reported error is asymmetric, taking the max of upper and lower values\n",
    "sys = np.array([14.503975, 16.340626, 15.787357, 19.048164, 21.577995, 19.433281, 22.298027, 22.735291, 24.080353, 24.041809, 29.106201, 29.555496, 28.276611, 28.298523, 29.842804, 29.508148, 31.911926, 37.484863, 35.556793, 37.14093, 31.571777, 33.594635, 33.854248, 31.548981, 30.929138, 32.272034, 28.640198, 28.655975, 31.98172, 33.399353, 33.999939, 34.867798, 37.221497, 34.579102, 33.832947, 35.292755, 32.362366, 33.648529, 30.184875, 28.458374, 29.351776, 27.243195, 31.308701, 25.922974, 20.921555, 24.66626, 20.639557, 20.218933, 20.028572, 19.055916, 16.229576, 14.047005, 12.518398, 16.568787])\n",
    "\n",
    "tot_90percent = np.sqrt(stat**2 + sys**2)\n",
    "tot = tot_90percent/1.645 # scale according to 1.645*sigma = err_90percent\n",
    "\n",
    "\n",
    "for i in range(len(data)):\n",
    "    print(str(data[i]) + ' ' + str(np.round(tot[i]**2,10)))"
   ]
  },
  {
   "cell_type": "code",
   "execution_count": 23,
   "id": "62fd308f",
   "metadata": {},
   "outputs": [],
   "source": [
    "# 25-30% cent - systematics not specified, total uncert. given only for a few points\n",
    "\n",
    "data = np.array([43.367561, 50.822456, 63.545067, 76.095177, 85.056892, 103.290581, 119.889488, 137.344238, 148.498505, 167.207977, 183.41658, 205.672882, 210.72052, 225.671463, 231.942566, 244.431686, 251.179947, 253.6465, 258.258545, 263.035919, 265.004822, 260.270447, 262.187592, 260.117737, 259.362518, 257.078735, 256.199585, 254.677002, 256.607605, 256.813324, 257.319122, 258.85321, 258.908752, 258.058533, 257.422333, 256.332825, 257.544006, 252.236465, 240.323273, 232.202835, 222.916916, 213.281219, 207.915421, 190.667496, 174.495514, 153.146912, 135.062759, 120.580269, 102.85273, 87.54657, 75.267883, 63.793167, 52.116383, 43.453327])\n",
    "stat = np.array([0, 0, 0, 0, 0, 0, 0, 0, 0, 0, 0, 0, 0, 0, 0, 0, 0, 0, 0, 0, 0, 0, 0, 0, 0, 0, 0, 0, 0, 0, 0, 0, 0, 0, 0, 0, 0, 0, 0, 0, 0, 0, 0, 0, 0, 0, 0, 0, 0, 0, 0, 0, 0, 0])\n",
    "# reported error is asymmetric, taking the max of upper and lower values\n",
    "sys = np.array([11.753609, 11.487831, 14.358669, 15.694164, 18.403976, 16.604652, 17.352486, 18.226585, 24.478165, 23.214371, 23.569565, 25.656601, 25.37027, 23.21492, 26.586823, 26.311966, 27.527267, 25.600266, 27.328323, 30.032455, 30.768356, 26.298523, 27.409683, 24.243652, 23.463928, 24.556732, 25.069366, 26.591949, 25.027863, 26.013123, 27.042267, 26.89325, 27.660217, 28.464508, 27.968292, 26.676819, 29.677338, 28.583786, 26.78363, 26.326553, 25.274902, 22.809555, 27.899155, 24.323212, 23.149261, 19.829758, 20.028198, 17.61039, 17.042503, 15.914299, 14.866901, 14.60677, 10.193878, 11.839375])\n",
    "\n",
    "tot_90percent = np.sqrt(stat**2 + sys**2)\n",
    "tot = tot_90percent/1.645 # scale according to 1.645*sigma = err_90percent\n",
    "\n",
    "\n",
    "for i in range(len(data)):\n",
    "    print(str(data[i]) + ' ' + str(np.round(tot[i]**2,10)))"
   ]
  },
  {
   "cell_type": "code",
   "execution_count": 24,
   "id": "36ab3bd1",
   "metadata": {},
   "outputs": [],
   "source": [
    "# 30-35% cent - systematics not specified, total uncert. given only for a few points\n",
    "\n",
    "data = np.array([38.594719, 45.380497, 53.42812, 64.949959, 70.507156, 83.639542, 98.592331, 109.010262, 125.262039, 135.156738, 148.271851, 160.894394, 173.098358, 182.557175, 187.816132, 198.984909, 200.527115, 207.959259, 213.420883, 210.787964, 213.56636, 215.354446, 213.599411, 211.910278, 214.703812, 211.560455, 212.007523, 210.022324, 210.292587, 211.195206, 213.971588, 213.987946, 211.163223, 208.983978, 212.093079, 207.970657, 205.380814, 206.093719, 198.512131, 189.706711, 181.236877, 173.282166, 167.909637, 155.540833, 142.835556, 124.596375, 112.501633, 99.093086, 87.021461, 72.766289, 64.856735, 54.717468, 45.099613, 40.467052])\n",
    "stat = np.array([0, 0, 0, 0, 0, 0, 0, 0, 0, 0, 0, 0, 0, 0, 0, 0, 0, 0, 0, 0, 0, 0, 0, 0, 0, 0, 0, 0, 0, 0, 0, 0, 0, 0, 0, 0, 0, 0, 0, 0, 0, 0, 0, 0, 0, 0, 0, 0, 0, 0, 0, 0, 0, 0])\n",
    "# reported error is asymmetric, taking the max of upper and lower values\n",
    "sys = np.array([10.878553, 11.04427, 10.733936, 13.735371, 16.629929, 16.390198, 14.983963, 18.479324, 16.183716, 19.954697, 19.900513, 19.463562, 18.359619, 18.77182, 22.075546, 22.718231, 22.507309, 23.280029, 25.930023, 22.627899, 22.638794, 23.575348, 21.048492, 21.85437, 22.394974, 20.380615, 19.800705, 21.785904, 21.648483, 21.531036, 21.638428, 21.782898, 23.873764, 25.699753, 22.557755, 23.140656, 22.295746, 25.11441, 22.245453, 20.184952, 20.092117, 18.175812, 22.545349, 20.978455, 20.047462, 16.84938, 14.987938, 14.483177, 14.226105, 14.370796, 13.64217, 12.561298, 9.229729, 12.750887])\n",
    "\n",
    "tot_90percent = np.sqrt(stat**2 + sys**2)\n",
    "tot = tot_90percent/1.645 # scale according to 1.645*sigma = err_90percent\n",
    "\n",
    "\n",
    "for i in range(len(data)):\n",
    "    print(str(data[i]) + ' ' + str(np.round(tot[i]**2,10)))"
   ]
  },
  {
   "cell_type": "code",
   "execution_count": 25,
   "id": "58b7c1e8",
   "metadata": {},
   "outputs": [],
   "source": [
    "# 35-40% cent - systematics not specified, total uncert. given only for a few points\n",
    "\n",
    "data = np.array([31.981182, 36.843636, 44.438866, 54.790825, 58.010597, 70.670776, 81.601006, 90.535728, 99.89798, 108.606071, 119.227112, 134.486374, 139.035431, 144.648254, 149.325729, 156.169312, 161.944244, 164.416061, 167.335403, 170.211685, 170.469543, 171.561996, 172.428848, 170.988998, 172.743362, 168.253296, 170.847931, 166.887863, 167.947479, 171.370483, 168.80162, 169.298233, 167.525314, 168.943146, 172.544403, 167.224487, 165.526779, 161.916702, 156.489014, 153.884933, 146.539322, 138.932495, 134.296387, 126.344467, 114.673492, 102.929977, 92.965225, 78.790703, 69.91008, 60.091244, 53.077797, 44.576221, 36.651417, 32.023609])\n",
    "stat = np.array([0, 0, 0, 0, 0, 0, 0, 0, 0, 0, 0, 0, 0, 0, 0, 0, 0, 0, 0, 0, 0, 0, 0, 0, 0, 0, 0, 0, 0, 0, 0, 0, 0, 0, 0, 0, 0, 0, 0, 0, 0, 0, 0, 0, 0, 0, 0, 0, 0, 0, 0, 0, 0, 0])\n",
    "# reported error is asymmetric, taking the max of upper and lower values\n",
    "sys = np.array([9.108019, 8.887169, 9.276604, 12.949509, 14.171028, 11.775528, 12.809837, 13.588638, 15.166603, 17.13208, 16.684143, 17.751701, 14.96994, 17.020996, 18.993835, 17.769714, 16.937912, 17.740692, 17.499573, 18.490738, 17.148392, 18.194504, 18.81308, 15.877716, 19.232559, 17.171387, 17.354218, 18.441223, 17.477203, 17.85968, 18.065109, 18.272354, 20.360809, 18.674789, 20.823456, 17.610489, 17.594986, 16.91037, 17.449997, 17.259262, 15.129929, 15.072861, 17.561722, 18.17437, 15.837196, 12.134605, 14.120918, 14.37812, 12.536224, 12.090382, 11.2365, 10.021904, 9.079369, 9.150446])\n",
    "\n",
    "tot_90percent = np.sqrt(stat**2 + sys**2)\n",
    "tot = tot_90percent/1.645 # scale according to 1.645*sigma = err_90percent\n",
    "\n",
    "\n",
    "for i in range(len(data)):\n",
    "    print(str(data[i]) + ' ' + str(np.round(tot[i]**2,10)))"
   ]
  },
  {
   "cell_type": "code",
   "execution_count": 26,
   "id": "c56d0aa9",
   "metadata": {},
   "outputs": [],
   "source": [
    "# 40-45% cent - systematics not specified, total uncert. given only for a few points\n",
    "\n",
    "data = np.array([27.773668, 30.53904, 37.362217, 44.966503, 48.431343, 58.29813, 67.122414, 74.049423, 80.54258, 89.056839, 98.134621, 109.408707, 111.944122, 118.474289, 122.381935, 127.258469, 129.171936, 133.873077, 136.801697, 137.126205, 137.722244, 138.123138, 136.633652, 137.282761, 138.546844, 137.745209, 135.097687, 132.70134, 135.617691, 135.619797, 137.394196, 134.681396, 135.316132, 136.532318, 133.853714, 134.742462, 131.940414, 132.156128, 127.080917, 124.713684, 120.079979, 109.835976, 108.119164, 101.595047, 90.007935, 82.689293, 75.272392, 66.532684, 57.818527, 49.914921, 44.746624, 37.347755, 31.349911, 26.568764])\n",
    "stat = np.array([0, 0, 0, 0, 0, 0, 0, 0, 0, 0, 0, 0, 0, 0, 0, 0, 0, 0, 0, 0, 0, 0, 0, 0, 0, 0, 0, 0, 0, 0, 0, 0, 0, 0, 0, 0, 0, 0, 0, 0, 0, 0, 0, 0, 0, 0, 0, 0, 0, 0, 0, 0, 0, 0])\n",
    "# reported error is asymmetric, taking the max of upper and lower values\n",
    "sys = np.array([8.219822, 7.220802, 8.052048, 9.631336, 10.7159, 9.095379, 9.870552, 10.68058, 12.902054, 12.871468, 11.865036, 14.393463, 12.384201, 11.915482, 13.265343, 13.417236, 14.552414, 14.959435, 16.209496, 15.329872, 13.156769, 12.955856, 14.181122, 12.959473, 15.361229, 14.618431, 13.902405, 16.298752, 13.45961, 13.956528, 14.132179, 16.133377, 15.762863, 14.346695, 16.254791, 14.150269, 14.640289, 15.467842, 13.007675, 14.41394, 14.078209, 14.49234, 13.103928, 13.223724, 11.920364, 10.755341, 9.980339, 9.44825, 9.574982, 9.232323, 9.411472, 8.037586, 6.409916, 7.014917])\n",
    "\n",
    "tot_90percent = np.sqrt(stat**2 + sys**2)\n",
    "tot = tot_90percent/1.645 # scale according to 1.645*sigma = err_90percent\n",
    "\n",
    "\n",
    "for i in range(len(data)):\n",
    "    print(str(data[i]) + ' ' + str(np.round(tot[i]**2,10)))"
   ]
  },
  {
   "cell_type": "code",
   "execution_count": 27,
   "id": "3a53a20b",
   "metadata": {},
   "outputs": [],
   "source": [
    "# 45-50% cent - systematics not specified, total uncert. given only for a few points\n",
    "\n",
    "data = np.array([22.503254, 25.346315, 30.799885, 35.834713, 39.229225, 45.029099, 53.392952, 59.101227, 64.334732, 70.974426, 75.965546, 86.480034, 86.651993, 91.266708, 95.482063, 97.068413, 99.95118, 102.70488, 103.870445, 103.964989, 106.501495, 104.689232, 104.610847, 104.12207, 105.688576, 100.807373, 104.855003, 104.141808, 103.096786, 102.649086, 103.899773, 104.037941, 102.479706, 104.379005, 103.571266, 105.238594, 103.459724, 98.727043, 98.199493, 93.872063, 92.117432, 86.48082, 86.133606, 78.561043, 72.050591, 65.211937, 58.764927, 51.086823, 45.246571, 38.762558, 34.860516, 29.56114, 25.10235, 21.17477])\n",
    "stat = np.array([0, 0, 0, 0, 0, 0, 0, 0, 0, 0, 0, 0, 0, 0, 0, 0, 0, 0, 0, 0, 0, 0, 0, 0, 0, 0, 0, 0, 0, 0, 0, 0, 0, 0, 0, 0, 0, 0, 0, 0, 0, 0, 0, 0, 0, 0, 0, 0, 0, 0, 0, 0, 0, 0])\n",
    "# reported error is asymmetric, taking the max of upper and lower values\n",
    "sys = np.array([7.628599, 5.559828, 8.143711, 8.343693, 8.347733, 8.869476, 8.337345, 7.924255, 9.214661, 8.883255, 9.857994, 12.150368, 9.685364, 9.491226, 10.033371, 10.729027, 10.471199, 11.360603, 11.448181, 11.008308, 12.901009, 10.898582, 10.731575, 10.749611, 12.121574, 13.130569, 11.42511, 9.723488, 10.841156, 11.688744, 10.971909, 11.304482, 13.108109, 11.11203, 11.402031, 12.81633, 12.115448, 11.695335, 10.278275, 10.70739, 9.730942, 9.856529, 11.803947, 9.23008, 7.807083, 8.337456, 8.260548, 9.34016, 8.652004, 8.8144, 7.369509, 6.441362, 5.803782, 6.300116])\n",
    "\n",
    "tot_90percent = np.sqrt(stat**2 + sys**2)\n",
    "tot = tot_90percent/1.645 # scale according to 1.645*sigma = err_90percent\n",
    "\n",
    "\n",
    "for i in range(len(data)):\n",
    "    print(str(data[i]) + ' ' + str(np.round(tot[i]**2,10)))"
   ]
  },
  {
   "cell_type": "markdown",
   "id": "c5c33cbc",
   "metadata": {},
   "source": [
    "### v2(eta) STAR"
   ]
  },
  {
   "cell_type": "code",
   "execution_count": 28,
   "id": "bae87e67",
   "metadata": {},
   "outputs": [],
   "source": [
    "# paper: https://arxiv.org/pdf/nucl-ex/0409033\n",
    "# HEPData: N/A\n",
    "# STAR website: https://drupal.star.bnl.gov/STAR/files/starpublications/48/data.html (Figure 16)\n",
    "\n",
    "bins = [3.8,-3.6,-3.4,-3.2,-3,-2.8,-0.8,-0.6,-0.4,-0.2,0.0,0.2,0.4,0.6,0.8,2.8,3,3.2,3.4,3.6,3.8]"
   ]
  },
  {
   "cell_type": "code",
   "execution_count": 29,
   "id": "90afeb96",
   "metadata": {},
   "outputs": [],
   "source": [
    "# 20-70% cent - neither stat. nor sys. specified\n",
    "\n",
    "data = np.array([0.0279,0.0301,0.0321,0.0346,0.0376,0.0361,0.0646,0.0653,0.0655,0.0651,0.0652,0.0654,0.0655,0.0656,0.0649,0.0361,0.0367,0.0347,0.0324,0.0290,0.0267])\n",
    "stat = np.array([0,0,0,0,0,0,0,0,0,0,0,0,0,0,0,0,0,0,0,0,0])\n",
    "sys = np.array([0,0,0,0,0,0,0,0,0,0,0,0,0,0,0,0,0,0,0,0,0])\n",
    "\n",
    "#tot = np.sqrt(stat**2 + sys**2)\n",
    "tot = np.array([0.0012,0.0009,0.0008,0.00075,0.00073,0.00091,0.00057,0.00056,0.00057,0.00057,0.00057,0.00057,0.00057,0.00056,0.00057,0.00096,0.00078,0.00079,0.00084,0.00095,0.0012])\n",
    "\n",
    "for i in range(len(data)):\n",
    "    print(str(data[i]) + ' ' + str(np.round(tot[i]**2,10)))"
   ]
  },
  {
   "cell_type": "markdown",
   "id": "5a09346a",
   "metadata": {},
   "source": [
    "### v2(eta) PHOBOS"
   ]
  },
  {
   "cell_type": "code",
   "execution_count": 30,
   "id": "14b54675",
   "metadata": {},
   "outputs": [],
   "source": [
    "# paper: https://arxiv.org/pdf/nucl-ex/0407012\n",
    "# HEPData: N/A\n",
    "# PHOBOS website: https://www.sdcc.bnl.gov/phobos/Publications/Physics/Flow_v2_cent_pt/index.htm (Figure. 5)\n",
    "\n",
    "# data was misreported on website and needed to be scooped from plot\n",
    "bins = [-4.96,-4.13,-3.67,-3.04,-1.69,-1.22,-0.76,-0.31,0.31,0.76,1.22,1.69,3.04,3.67,4.13,4.96]\n"
   ]
  },
  {
   "cell_type": "code",
   "execution_count": 31,
   "id": "2f6e842b",
   "metadata": {},
   "outputs": [],
   "source": [
    "# 3-15% cent - neither stat. nor sys. specified, given for 90% confidence interval\n",
    "\n",
    "data = np.array([0.0148, 0.0146, 0.0234, 0.0226, 0.0292, 0.0304, 0.032, 0.0316, 0.0316, 0.032, 0.0304, 0.0292, 0.0226, 0.0234, 0.0146, 0.0148])\n",
    "stat = np.array([0,0,0,0,0,0,0,0,0,0,0,0,0,0,0,0])\n",
    "sys = np.array([0,0,0,0,0,0,0,0,0,0,0,0,0,0,0,0])\n",
    "#tot = np.sqrt(stat**2 + sys**2)\n",
    "# reported error is asymmetric, taking the max of upper and lower values\n",
    "tot_90percent = np.array([.016,.014,.0067,.0043,.003,.0027,.0027,.0026,.0026,.0027,.0027,.003,.0043,.0067,.0147,.016])\n",
    "tot = tot_90percent/1.645 # scale according to 1.645*sigma = err_90percent\n",
    "\n",
    "for i in range(len(data)):\n",
    "    print(str(data[i]) + ' ' + str(np.round(tot[i]**2,10)))"
   ]
  },
  {
   "cell_type": "code",
   "execution_count": 32,
   "id": "8895d102",
   "metadata": {},
   "outputs": [],
   "source": [
    "# 15-25% cent - neither stat. nor sys. specified, given for 90% confidence interval\n",
    "\n",
    "data = np.array([0.0183, 0.0239, 0.028, 0.035, 0.0437, 0.0467, 0.0498, 0.051, 0.051, 0.0498, 0.0467, 0.0437, 0.035, 0.028, 0.0239, 0.0183])\n",
    "stat = np.array([0,0,0,0,0,0,0,0,0,0,0,0,0,0,0,0])\n",
    "sys = np.array([0,0,0,0,0,0,0,0,0,0,0,0,0,0,0,0])\n",
    "#tot = np.sqrt(stat**2 + sys**2)\n",
    "# reported error is asymmetric, taking the max of upper and lower values\n",
    "tot_90percent = np.array([0.0237,0.0090,0.0118,0.0089,0.0044,0.0034,0.0032,0.0030,0.0030,0.0032,0.0034,0.0044,0.0089,0.0118,0.0090,0.0237])\n",
    "tot = tot_90percent/1.645 # scale according to 1.645*sigma = err_90percent\n",
    "\n",
    "for i in range(len(data)):\n",
    "    print(str(data[i]) + ' ' + str(np.round(tot[i]**2,10)))"
   ]
  },
  {
   "cell_type": "code",
   "execution_count": 33,
   "id": "1a5349b1",
   "metadata": {},
   "outputs": [],
   "source": [
    "# 25-50% cent - neither stat. nor sys. specified, given for 90% confidence interval\n",
    "\n",
    "data = np.array([0.0209, 0.0276, 0.0372, 0.0448, 0.0537, 0.057, 0.061, 0.0634, 0.0634, 0.061, 0.057, 0.0537, 0.0448, 0.0372, 0.0276, 0.0209])\n",
    "stat = np.array([0,0,0,0,0,0,0,0,0,0,0,0,0,0,0,0])\n",
    "sys = np.array([0,0,0,0,0,0,0,0,0,0,0,0,0,0,0,0])\n",
    "#tot = np.sqrt(stat**2 + sys**2)\n",
    "# reported error is asymmetric, taking the max of upper and lower values\n",
    "tot_90percent = np.array([0.0243,.0106,0.0115,0.0106,0.0047,0.0044,0.0039,0.0033,0.0033, 0.0039, 0.0044, 0.0047, 0.0106, 0.0115, 0.0106, 0.0243])\n",
    "tot = tot_90percent/1.645 # scale according to 1.645*sigma = err_90percent\n",
    "\n",
    "for i in range(len(data)):\n",
    "    print(str(data[i]) + ' ' + str(np.round(tot[i]**2,10)))"
   ]
  },
  {
   "cell_type": "markdown",
   "id": "8ed02346",
   "metadata": {},
   "source": [
    "### v2(pT) PHENIX"
   ]
  },
  {
   "cell_type": "code",
   "execution_count": 34,
   "id": "792e0ab4",
   "metadata": {},
   "outputs": [],
   "source": [
    "# paper: https://arxiv.org/pdf/1105.3928\n",
    "# HEPData: https://www.hepdata.net/record/ins900703\n",
    "\n",
    "bins = [0.375,0.625,0.875,1.125,1.375,1.625,1.875,]\n"
   ]
  },
  {
   "cell_type": "code",
   "execution_count": 35,
   "id": "29946a86",
   "metadata": {},
   "outputs": [],
   "source": [
    "# 0-10% cent\n",
    "\n",
    "data = np.array([0.0169959,0.0274202,0.0373922,0.0462346,0.055339,0.0627287,0.0683054,])\n",
    "stat = np.array([0.000105806,0.000142779,0.000194245,0.000261545,0.000352648,0.000481697,0.000658218])\n",
    "sys = np.array([0.0016066,0.0017221,0.0019558,0.0020674,0.0028573,0.0028625,0.0030784])\n",
    "tot = np.sqrt(stat**2 + sys**2)\n",
    "\n",
    "for i in range(len(data)):\n",
    "    print(str(data[i]) + ' ' + str(np.round(tot[i]**2,10)))"
   ]
  },
  {
   "cell_type": "code",
   "execution_count": 36,
   "id": "e905c813",
   "metadata": {},
   "outputs": [],
   "source": [
    "# 10-20% cent\n",
    "\n",
    "data = np.array([0.0298107,0.0491524,0.0669039,0.0831539,0.0981141,0.111433,0.123612])\n",
    "stat = np.array([9.03561E-05,0.000119375,0.000161341,0.000216438,0.000290775,0.000395437,0.000537255])\n",
    "sys = np.array([0.0015472,0.001897,0.0023636,0.002798,0.0030179,0.003931,0.003319])\n",
    "tot = np.sqrt(stat**2 + sys**2)\n",
    "\n",
    "for i in range(len(data)):\n",
    "    print(str(data[i]) + ' ' + str(np.round(tot[i]**2,10)))"
   ]
  },
  {
   "cell_type": "code",
   "execution_count": 37,
   "id": "6061d12c",
   "metadata": {},
   "outputs": [],
   "source": [
    "# 20-30% cent\n",
    "\n",
    "data = np.array([0.0413482,0.0681018,0.092432,0.11367,0.133053,0.150188,0.164879])\n",
    "stat = np.array([0.000103039,0.000134505,0.000181114,0.000242718,0.000325714,0.000442023,0.000598777])\n",
    "sys = np.array([0.0015775,0.0021263,0.0025526,0.003239,0.003741,0.004137,0.004567])\n",
    "tot = np.sqrt(stat**2 + sys**2)\n",
    "\n",
    "for i in range(len(data)):\n",
    "    print(str(data[i]) + ' ' + str(np.round(tot[i]**2,10)))"
   ]
  },
  {
   "cell_type": "code",
   "execution_count": 38,
   "id": "5dbb7e04",
   "metadata": {},
   "outputs": [],
   "source": [
    "# 30-40% cent\n",
    "\n",
    "data = np.array([0.049085,0.0814801,0.109918,0.135116,0.156499,0.176096,0.192277])\n",
    "stat = np.array([0.000130777,0.000169935,0.000229005,0.000307425,0.000413164,0.00056109,0.000759255])\n",
    "sys = np.array([0.0017507,0.0025396,0.003257,0.00371,0.004456,0.004958,0.005259])\n",
    "tot = np.sqrt(stat**2 + sys**2)\n",
    "\n",
    "for i in range(len(data)):\n",
    "    print(str(data[i]) + ' ' + str(np.round(tot[i]**2,10)))"
   ]
  },
  {
   "cell_type": "code",
   "execution_count": 39,
   "id": "07599629",
   "metadata": {},
   "outputs": [],
   "source": [
    "# 40-50% cent\n",
    "\n",
    "data = np.array([0.0529655,0.0889087,0.119992,0.147327,0.170525,0.191597,0.208442])\n",
    "stat = np.array([0.000184312,0.000240157,0.000325007,0.000438916,0.00059241,0.000806002,0.00109073])\n",
    "sys = np.array([0.0023406,0.0031423,0.003814,0.004435,0.005381,0.005908,0.00601])\n",
    "tot = np.sqrt(stat**2 + sys**2)\n",
    "\n",
    "for i in range(len(data)):\n",
    "    print(str(data[i]) + ' ' + str(np.round(tot[i]**2,10)))"
   ]
  },
  {
   "cell_type": "code",
   "execution_count": 40,
   "id": "b01c6d60",
   "metadata": {},
   "outputs": [],
   "source": [
    "# 50-60% cent\n",
    "\n",
    "data = np.array([0.0535787,0.0917667,0.124355,0.153979,0.17449,0.196687,0.212261])\n",
    "stat = np.array([0.000299071,0.000393356,0.000537378,0.000731235,0.000992541,0.00135507,0.00183659])\n",
    "sys = np.array([0.0034388,0.0044295,0.0054,0.006163,0.007368,0.006681,0.00626])\n",
    "tot = np.sqrt(stat**2 + sys**2)\n",
    "\n",
    "for i in range(len(data)):\n",
    "    print(str(data[i]) + ' ' + str(np.round(tot[i]**2,10)))"
   ]
  },
  {
   "cell_type": "markdown",
   "id": "46b27496",
   "metadata": {},
   "source": [
    "### v3(pT) PHENIX"
   ]
  },
  {
   "cell_type": "code",
   "execution_count": 41,
   "id": "36843ba3",
   "metadata": {},
   "outputs": [],
   "source": [
    "# 0-10% cent\n",
    "\n",
    "data = np.array([0.00589457,0.013108,0.0215965,0.0312278,0.0395014,0.0480923,0.0587106])\n",
    "stat = np.array([0.000181292,0.000245442,0.000335275,0.000452831,0.000610288,0.000833135,0.00113678])\n",
    "sys = np.array([0.00050464,0.0006683,0.0011071,0.0011048,0.0016856,0.002143,0.0025967])\n",
    "tot = np.sqrt(stat**2 + sys**2)\n",
    "\n",
    "for i in range(len(data)):\n",
    "    print(str(data[i]) + ' ' + str(np.round(tot[i]**2,10)))"
   ]
  },
  {
   "cell_type": "code",
   "execution_count": 42,
   "id": "ba3a2835",
   "metadata": {},
   "outputs": [],
   "source": [
    "# 10-20% cent\n",
    "\n",
    "data = np.array([0.00795421,0.0170664,0.0275343,0.0376689,0.0489483,0.0605869,0.0703604])\n",
    "stat = np.array([0.000204415,0.000271467,0.000368793,0.00049599,0.000666459,0.000906131,0.00122886])\n",
    "sys = np.array([0.00087016,0.0011234,0.0019506,0.0021152,0.0032258,0.0031398,0.0038701])\n",
    "tot = np.sqrt(stat**2 + sys**2)\n",
    "\n",
    "for i in range(len(data)):\n",
    "    print(str(data[i]) + ' ' + str(np.round(tot[i]**2,10)))"
   ]
  },
  {
   "cell_type": "code",
   "execution_count": 43,
   "id": "e74e4621",
   "metadata": {},
   "outputs": [],
   "source": [
    "# 20-30% cent\n",
    "\n",
    "data = np.array([0.00923883,0.0201636,0.0315953,0.0431779,0.0549698,0.0655922,0.0750559])\n",
    "stat = np.array([0.000272997,0.000358979,0.000486183,0.000653479,0.000878561,0.00119097,0.00161202])\n",
    "sys = np.array([0.00086527,0.0017218,0.0023142,0.0034535,0.0033109,0.0047163,0.0055163])\n",
    "tot = np.sqrt(stat**2 + sys**2)\n",
    "\n",
    "for i in range(len(data)):\n",
    "    print(str(data[i]) + ' ' + str(np.round(tot[i]**2,10)))"
   ]
  },
  {
   "cell_type": "code",
   "execution_count": 44,
   "id": "f81b76ec",
   "metadata": {},
   "outputs": [],
   "source": [
    "# 30-40% cent\n",
    "\n",
    "data = np.array([0.00984431,0.0202271,0.0338725,0.0470711,0.0599705,0.0680346,0.0769577])\n",
    "stat = np.array([0.000398156,0.000521062,0.000708624,0.00095657,0.00128736,0.00174348,0.00235487])\n",
    "sys = np.array([0.00136949,0.0025007,0.0038779,0.0044167,0.0050782,0.0042416,0.0072235])\n",
    "tot = np.sqrt(stat**2 + sys**2)\n",
    "\n",
    "for i in range(len(data)):\n",
    "    print(str(data[i]) + ' ' + str(np.round(tot[i]**2,10)))"
   ]
  },
  {
   "cell_type": "code",
   "execution_count": 45,
   "id": "4bf4dafc",
   "metadata": {},
   "outputs": [],
   "source": [
    "# 40-50% cent\n",
    "\n",
    "data = np.array([0.00975617,0.0217079,0.034823,0.0476928,0.0561413,0.0693111,0.0741277])\n",
    "stat = np.array([0.00063692,0.000837138,0.00114114,0.00155012,0.00208872,0.00284102,0.003837])\n",
    "sys = np.array([0.00271613,0.003888,0.0026608,0.0055172,0.006683,0.0078429,0.009356])\n",
    "tot = np.sqrt(stat**2 + sys**2)\n",
    "\n",
    "for i in range(len(data)):\n",
    "    print(str(data[i]) + ' ' + str(np.round(tot[i]**2,10)))"
   ]
  },
  {
   "cell_type": "code",
   "execution_count": 46,
   "id": "80faf893",
   "metadata": {},
   "outputs": [],
   "source": [
    "# 50-60% cent\n",
    "\n",
    "data = np.array([0.00951564,0.0196241,0.0337283,0.0449387,0.0521614,0.0681753,0.0694692])\n",
    "stat = np.array([0.00113896,0.00150487,0.00207451,0.00283886,0.00384366,0.00526136,0.00711443])\n",
    "sys = np.array([0.00295976,0.0027052,0.0089221,0.0116953,0.0104753,0.0163626,0.0140718])\n",
    "tot = np.sqrt(stat**2 + sys**2)\n",
    "\n",
    "for i in range(len(data)):\n",
    "    print(str(data[i]) + ' ' + str(np.round(tot[i]**2,10)))"
   ]
  },
  {
   "cell_type": "markdown",
   "id": "bd1131fb",
   "metadata": {},
   "source": [
    "### v4(pT) PHENIX"
   ]
  },
  {
   "cell_type": "code",
   "execution_count": 47,
   "id": "25b07c03",
   "metadata": {},
   "outputs": [],
   "source": [
    "# 0-10% cent\n",
    "\n",
    "data = np.array([0.00227273,0.00651997,0.00929623,0.0161046,0.0242414,0.0261195,0.0380971])\n",
    "stat = np.array([0.000436254,0.00059302,0.000809231,0.00109995,0.00149416,0.00202301,0.00277526])\n",
    "sys = np.array([0.0003677,0.00080408,0.00130767,0.0012352,0.0022917,0.0047345,0.0025267])\n",
    "tot = np.sqrt(stat**2 + sys**2)\n",
    "\n",
    "for i in range(len(data)):\n",
    "    print(str(data[i]) + ' ' + str(np.round(tot[i]**2,10)))"
   ]
  },
  {
   "cell_type": "code",
   "execution_count": 48,
   "id": "67408af0",
   "metadata": {},
   "outputs": [],
   "source": [
    "# 10-20% cent\n",
    "\n",
    "data = np.array([0.00341712,0.00883622,0.0160356,0.0237703,0.0308472,0.0422317,0.0502157])\n",
    "stat = np.array([0.000538267,0.00071987,0.000990739,0.00134426,0.00180399,0.00246129,0.00331494])\n",
    "sys = np.array([0.00131512,0.00303028,0.0036937,0.0045793,0.005093,0.006274,0.006869])\n",
    "tot = np.sqrt(stat**2 + sys**2)\n",
    "\n",
    "for i in range(len(data)):\n",
    "    print(str(data[i]) + ' ' + str(np.round(tot[i]**2,10)))"
   ]
  },
  {
   "cell_type": "code",
   "execution_count": 49,
   "id": "6913651c",
   "metadata": {},
   "outputs": [],
   "source": [
    "# 20-30% cent\n",
    "\n",
    "data = np.array([0.00492819,0.0145179,0.0213686,0.0317344,0.0388609,0.0508063,0.0540187])\n",
    "stat = np.array([0.000726712,0.000990765,0.00135648,0.00184876,0.00244962,0.00333,0.00439877])\n",
    "sys = np.array([0.00238938,0.0043011,0.0041242,0.0055133,0.0067452,0.0064654,0.0086406])\n",
    "tot = np.sqrt(stat**2 + sys**2)\n",
    "\n",
    "for i in range(len(data)):\n",
    "    print(str(data[i]) + ' ' + str(np.round(tot[i]**2,10)))"
   ]
  },
  {
   "cell_type": "code",
   "execution_count": 50,
   "id": "1ee7d5e7",
   "metadata": {},
   "outputs": [],
   "source": [
    "# 30-40% cent\n",
    "\n",
    "data = np.array([0.00707543,0.0146112,0.0258145,0.0359297,0.0421269,0.0558727,0.0705198])\n",
    "stat = np.array([0.00108068,0.00145094,0.00202642,0.00277597,0.00364558,0.00492705,0.00659385])\n",
    "sys = np.array([0.00308317,0.004507,0.0071339,0.0066984,0.0059986,0.0093293,0.0078773])\n",
    "tot = np.sqrt(stat**2 + sys**2)\n",
    "\n",
    "for i in range(len(data)):\n",
    "    print(str(data[i]) + ' ' + str(np.round(tot[i]**2,10)))"
   ]
  },
  {
   "cell_type": "code",
   "execution_count": 51,
   "id": "bf3881bf",
   "metadata": {},
   "outputs": [],
   "source": [
    "# 40-50% cent\n",
    "\n",
    "data = np.array([0.00903684,0.015661,0.0297691,0.0386156,0.0441633,0.051425,0.0961514])\n",
    "stat = np.array([0.00247173,0.00352208,0.00533278,0.00728882,0.00918913,0.0118235,0.0173932])\n",
    "sys = np.array([0.00315276,0.0073361,0.012883,0.0135604,0.0172349,0.0177813,0.0239146])\n",
    "tot = np.sqrt(stat**2 + sys**2)\n",
    "\n",
    "for i in range(len(data)):\n",
    "    print(str(data[i]) + ' ' + str(np.round(tot[i]**2,10)))"
   ]
  },
  {
   "cell_type": "markdown",
   "id": "476bd0bd",
   "metadata": {},
   "source": [
    "### v2 integrated STAR"
   ]
  },
  {
   "cell_type": "code",
   "execution_count": 52,
   "id": "a11fb78f",
   "metadata": {},
   "outputs": [],
   "source": [
    "# paper: https://arxiv.org/pdf/nucl-ex/0409033\n",
    "# HEPData: https://www.hepdata.net/record/ins660793 (Figure 29a)\n",
    "\n",
    "bins = [2.5,7.5,15,25,35,45]\n"
   ]
  },
  {
   "cell_type": "code",
   "execution_count": 53,
   "id": "f361846e",
   "metadata": {},
   "outputs": [],
   "source": [
    "# no stat. or sys. uncertainties specified\n",
    "# data and errors reported in *percent*\n",
    "\n",
    "data = np.array([0.0241,0.0355,0.0497,0.0642,0.0729,0.0764])\n",
    "stat = np.array([0,0,0,0,0,0])\n",
    "sys = np.array([0,0,0,0,0,0])\n",
    "#tot = np.sqrt(stat**2 + sys**2)\n",
    "tot = np.array([9.599999999999999e-05,8.800000000000001e-05,6.6e-05, 7.5e-05,9.400000000000001e-05,0.00013])\n",
    "\n",
    "for i in range(len(data)):\n",
    "    print(str(data[i]) + ' ' + str(np.round(tot[i]**2,10)))\n"
   ]
  },
  {
   "cell_type": "markdown",
   "id": "6bff0d21",
   "metadata": {},
   "source": [
    "### v3 integrated STAR"
   ]
  },
  {
   "cell_type": "code",
   "execution_count": 54,
   "id": "cab2969d",
   "metadata": {},
   "outputs": [],
   "source": [
    "# paper: https://arxiv.org/pdf/1301.2187\n",
    "# HEPData: https://www.hepdata.net/record/ins1210062\n",
    "\n",
    "bins = [2.5,7.5,15,25,35,45]\n"
   ]
  },
  {
   "cell_type": "code",
   "execution_count": 55,
   "id": "3324083c",
   "metadata": {},
   "outputs": [],
   "source": [
    "# only stat. uncertainties specified in HEPData\n",
    "# sys. uncertainties scooped by Derek Everett directly from plot (taken from https://github.com/derekeverett/HIC_experimental_data/blob/master/Au-Au-200/STAR/v32.dat)\n",
    "\n",
    "data = np.array([0.0138,0.0157,0.0175,0.0183,0.0187,0.0181])\n",
    "stat = np.array([0.0001,0.0001,0.0001,0.0001,0.0002,0.0003])\n",
    "sys = np.array([0.00109,0.00055,0.00055,0.00049,0.00033,0.00022])\n",
    "tot = np.sqrt(stat**2 + sys**2)\n",
    "\n",
    "for i in range(len(data)):\n",
    "    print(str(data[i]) + ' ' + str(np.round(tot[i]**2,10)))\n"
   ]
  },
  {
   "cell_type": "markdown",
   "id": "d09cc94c",
   "metadata": {},
   "source": [
    "### identified particle (pion) integrated mean-pT PHENIX"
   ]
  },
  {
   "cell_type": "code",
   "execution_count": 56,
   "id": "2f6d7cee",
   "metadata": {},
   "outputs": [],
   "source": [
    "# paper: https://arxiv.org/pdf/nucl-ex/0307022\n",
    "# HEPData: https://www.hepdata.net/record/ins624474 (Figure 11)\n",
    "\n",
    "# average between particle/anti-particle data \n",
    "# and add errors in quadriture and divide by 2\n",
    "bins = [2.5,7.5,12.5,17.5,25,35,45,55]\n"
   ]
  },
  {
   "cell_type": "code",
   "execution_count": 57,
   "id": "558557f5",
   "metadata": {},
   "outputs": [],
   "source": [
    "# stat. errors are not specified on HEPData and are too small to be scooped\n",
    "# from plot for the pions, treated as negligible\n",
    "\n",
    "data_piplus = np.array([0.451,0.45,0.448,0.447,0.444,0.436,0.426,0.412])\n",
    "data_piminus = np.array([0.455,0.454,0.453,0.449,0.447,0.44,0.429,0.416])\n",
    "data = (data_piplus + data_piminus)/2\n",
    "\n",
    "stat_piplus = np.array([0,0,0,0,0,0,0,0])\n",
    "sys_piplus = np.array([0.033,0.033,0.033,0.034,0.035,0.035,0.035,0.035])\n",
    "tot_piplus = np.sqrt(stat_piplus**2 + sys_piplus**2)\n",
    "\n",
    "stat_piminus = np.array([0,0,0,0,0,0,0,0])\n",
    "sys_piminus = np.array([0.032,0.033,0.033,0.033,0.034,0.035,0.035,0.034])\n",
    "tot_piminus = np.sqrt(stat_piminus**2 + sys_piminus**2)\n",
    "\n",
    "#tot = np.sqrt(tot_piplus**2 + tot_piminus**2)\n",
    "# treat as highly correlated and take a simple sum of the errors\n",
    "tot = (tot_piplus + tot_piminus)/2\n",
    "\n",
    "for i in range(len(data)):\n",
    "    print(str(data[i]) + ' ' + str(np.round(tot[i]**2,10)))\n"
   ]
  },
  {
   "cell_type": "markdown",
   "id": "cefff5e7",
   "metadata": {},
   "source": [
    "## d-Au 200 GeV"
   ]
  },
  {
   "cell_type": "markdown",
   "id": "52fda5e3",
   "metadata": {},
   "source": [
    "### dNch/deta PHOBOS"
   ]
  },
  {
   "cell_type": "code",
   "execution_count": 58,
   "id": "656faa32",
   "metadata": {},
   "outputs": [],
   "source": [
    "# paper: https://arxiv.org/pdf/nucl-ex/0409021\n",
    "# HEPData: N/A\n",
    "# PHOBOS website: https://www.sdcc.bnl.gov/phobos/Publications/Physics/dAu_mult_centrality/index.htm  (Figure 1)\n",
    "\n",
    "bins = [-5.3,-5.1,-4.9,-4.7,-4.5,-4.3,-4.1,-3.9,-3.7,-3.5,-3.3,-3.1,-2.9,-2.7,-2.5,-2.3,-2.1,-1.9,-1.7,-1.5,-1.3,-1.1,-0.9,-0.7,-0.5,-0.3,-0.1,0.1,0.3,0.5,0.7,0.9,1.1,1.3,1.5,1.7,1.9,2.1,2.3,2.5,2.7,2.9,3.1,3.3,3.5,3.7,3.9,4.1,4.3,4.5,4.7,4.9,5.1,5.3]\n"
   ]
  },
  {
   "cell_type": "code",
   "execution_count": 59,
   "id": "5ab8ca95",
   "metadata": {},
   "outputs": [],
   "source": [
    "# 0-20% cent - statistical \"negligible\" not specified, sys. uncert. given for 90% confidence interval\n",
    "\n",
    "data = np.array([14.770778,15.775605,16.030640,16.896170,16.786045,17.798939,18.715219,19.412439,20.857679,21.417221,22.587006,22.248688,22.562180,22.560930,22.749557,22.928396,22.813160,22.960215,22.670698,22.148575,21.615126,20.996445,20.057413,19.405575,18.779785,18.202597,17.743143,17.245951,16.777397,16.401293,16.192678,15.945663,15.689440,15.261436,14.931284,14.234889,13.501287,12.741189,11.611946,10.639478,9.596102,8.582106,7.673891,6.604158,5.477372,4.537561,3.345261,2.578927,2.065141,1.757340,1.288609,0.956051,0.668134,0.535830])\n",
    "stat = np.array([0,0,0,0,0,0,0,0,0,0,0,0,0,0,0,0,0,0,0,0,0,0,0,0,0,0,0,0,0,0,0,0,0,0,0,0,0,0,0,0,0,0,0,0,0,0,0,0,0,0,0,0,0,0])\n",
    "# reported error is asymmetric, taking the max of upper and lower values\n",
    "sys = np.array([3.263135,2.801112,3.126131,2.870998,3.612793,3.241711,2.964390,2.888737,2.032009,2.011662,1.315502,2.046329,2.030111,2.221474,2.106813,1.880436,1.825512,1.389231,1.278938,1.304029,1.261084,1.245594,1.516813,1.492294,1.457319,1.410421,1.298386,1.285591,1.306206,1.288042,1.139130,1.041275,0.936396,0.956467,0.803014,0.916463,0.952199,0.894009,1.089935,1.029872,0.966085,0.829039,0.576143,0.508340,0.551721,0.487455,0.773410,0.742188,0.571192,0.304787,0.302834,0.257815,0.248944,0.152316])\n",
    "tot_90percent = np.sqrt(stat**2 + sys**2)\n",
    "tot = tot_90percent/1.645 # scale according to 1.645*sigma = err_90percent\n",
    "\n",
    "\n",
    "for i in range(len(data)):\n",
    "    print(str(data[i]) + ' ' + str(np.round(tot[i]**2,10)))"
   ]
  },
  {
   "cell_type": "markdown",
   "id": "4c9671ba",
   "metadata": {},
   "source": [
    "### dNch/deta PHENIX"
   ]
  },
  {
   "cell_type": "code",
   "execution_count": 60,
   "id": "cdc70380",
   "metadata": {},
   "outputs": [],
   "source": [
    "# paper: https://arxiv.org/pdf/1807.11928\n",
    "# HEPData: https://www.hepdata.net/record/ins1684475 (Figure 2b)\n",
    "\n",
    "bins = [-2.55, -2.45, -2.35, -2.25, -2.15, -2.05, -1.95, -1.85, -1.75, -1.65, -1.55, -1.45, -1.35, -0.35, -0.25, -0.15, -0.05, 0.05, 0.15, 0.25, 0.35, 1.35, 1.45, 1.55, 1.65, 1.75, 1.85, 1.95, 2.05, 2.15, 2.25, 2.35, 2.45, 2.55]\n"
   ]
  },
  {
   "cell_type": "code",
   "execution_count": 61,
   "id": "2e1cb74f",
   "metadata": {},
   "outputs": [],
   "source": [
    "# 0-5% cent - statistical \"negligible\" not specified\n",
    "\n",
    "data = np.array([25.8, 25.4, 25.4, 25.5, 25.4, 25.4, 25.4, 25.2, 25.0, 24.9, 25.0, 25.0, 25.3, 19.7, 19.4, 19.1, 18.8, 18.4, 18.2, 17.9, 17.4, 14.4, 14.4, 14.3, 14.2, 13.9, 13.6, 13.2, 12.8, 12.3, 11.8, 11.8, 11.1, 11.1])\n",
    "stat = np.array([0,0,0,0,0,0,0,0,0,0,0,0,0,0,0,0,0,0,0,0,0,0,0,0,0,0,0,0,0,0,0,0,0,0])\n",
    "sys = np.array([2.2, 2.1, 2.1, 2.1, 2.0, 2.0, 2.0, 2.0, 1.9, 1.9, 2.1, 2.4, 2.0, 1.8, 1.6, 1.7, 1.8, 1.5, 1.6, 1.5, 1.8, 1.1, 1.1, 1.0, 1.2, 1.0, 1.1, 1.0, 1.0, 1.0, 1.1, 0.98, 1.0, 1.2])\n",
    "tot = np.sqrt(stat**2 + sys**2)\n",
    "\n",
    "for i in range(len(data)):\n",
    "    print(str(data[i]) + ' ' + str(np.round(tot[i]**2,10)))"
   ]
  },
  {
   "cell_type": "code",
   "execution_count": 62,
   "id": "a79d34eb",
   "metadata": {},
   "outputs": [],
   "source": [
    "# 5-10% cent - statistical \"negligible\" not specified\n",
    "\n",
    "data = np.array([21.5, 22.0, 22.0, 22.2, 22.1, 22.0, 22.2, 22.0, 21.9, 21.7, 21.4, 21.0, 20.8, 17.2, 17.7, 17.1, 16.8, 16.8, 16.3, 16.4, 15.9, 14.3, 14.4, 14.4, 13.8, 13.4, 13.2, 12.6, 12.4, 11.7, 11.4, 10.9, 10.3, 9.85])\n",
    "stat = np.array([0,0,0,0,0,0,0,0,0,0,0,0,0,0,0,0,0,0,0,0,0,0,0,0,0,0,0,0,0,0,0,0,0,0])\n",
    "sys = np.array([3.0, 3.0, 2.9, 3.0, 2.9, 3.0, 3.0, 3.0, 2.9, 2.9, 3.0, 3.2, 2.9, 2.7, 2.5, 2.6, 2.8, 2.4, 2.4, 2.3, 3.4, 2.0, 1.9, 1.8, 2.0, 1.8, 1.8, 1.7, 1.6, 1.6, 1.7, 1.5, 1.5, 1.7])\n",
    "tot = np.sqrt(stat**2 + sys**2)\n",
    "\n",
    "for i in range(len(data)):\n",
    "    print(str(data[i]) + ' ' + str(np.round(tot[i]**2,10)))"
   ]
  },
  {
   "cell_type": "code",
   "execution_count": 63,
   "id": "e0f74f82",
   "metadata": {},
   "outputs": [],
   "source": [
    "# 10-20% cent - statistical \"negligible\" not specified\n",
    "\n",
    "data = np.array([19.0, 19.5, 19.4, 19.5, 19.3, 19.3, 19.5, 19.4, 19.4, 19.0, 18.3, 18.0, 17.7, 16.0, 15.5, 15.6, 15.3, 15.1, 15.0, 14.9, 14.6, 14.1, 13.9, 13.8, 13.2, 12.7, 12.4, 12.1, 11.7, 11.3, 10.7, 10.2, 9.66, 8.98])\n",
    "stat = np.array([0,0,0,0,0,0,0,0,0,0,0,0,0,0,0,0,0,0,0,0,0,0,0,0,0,0,0,0,0,0,0,0,0,0])\n",
    "sys = np.array([2.6, 2.6, 2.5, 2.5, 2.5, 2.5, 2.5, 2.5, 2.4, 2.4, 2.5, 2.8, 2.3, 2.5, 2.1, 2.1, 2.3, 2.0, 2.2, 2.0, 2.1, 1.9, 1.8, 1.7, 1.9, 1.6, 1.6, 1.5, 1.5, 1.5, 1.5, 1.3, 1.3, 1.6])\n",
    "tot = np.sqrt(stat**2 + sys**2)\n",
    "\n",
    "for i in range(len(data)):\n",
    "    print(str(data[i]) + ' ' + str(np.round(tot[i]**2,10)))"
   ]
  },
  {
   "cell_type": "markdown",
   "id": "58b4840f",
   "metadata": {},
   "source": [
    "### v2(eta) PHENIX"
   ]
  },
  {
   "cell_type": "code",
   "execution_count": 64,
   "id": "0ea0e6aa",
   "metadata": {},
   "outputs": [],
   "source": [
    "# paper: https://arxiv.org/pdf/1807.11928\n",
    "# HEPData: https://www.hepdata.net/record/ins1684475 (Figure 4)\n",
    "\n",
    "bins = [-0.30,-0.1,0.1,0.30,1.20,1.4,1.6,1.80,2.0,2.2,2.4,2.6,2.8,2.95]\n"
   ]
  },
  {
   "cell_type": "code",
   "execution_count": 65,
   "id": "c0a3222e",
   "metadata": {},
   "outputs": [],
   "source": [
    "# 0-5% cent.\n",
    "\n",
    "data = np.array([0.046,0.045,0.0426,0.0412,0.0362,0.0344,0.0321,0.0308,0.0293,0.0276,0.0256,0.0239,0.0202,0.0165])\n",
    "stat = np.array([0.00063,0.00055,0.0005,0.00059,0.0013,0.00052,0.00037,0.0003,0.00029,0.00031,0.00036,0.00048,0.0008,0.0025])\n",
    "sys = np.array([0.0037,0.0037,0.0035,0.0033,0.0029,0.0028,0.0026,0.0025,0.0024,0.0022,0.0021,0.0019,0.0016,0.0013])\n",
    "tot = np.sqrt(stat**2 + sys**2)\n",
    "\n",
    "for i in range(len(data)):\n",
    "    print(str(data[i]) + ' ' + str(np.round(tot[i]**2,10)))\n"
   ]
  },
  {
   "cell_type": "markdown",
   "id": "f9bebb0f",
   "metadata": {},
   "source": [
    "### v2(pT) PHENIX"
   ]
  },
  {
   "cell_type": "code",
   "execution_count": 66,
   "id": "93c78e35",
   "metadata": {},
   "outputs": [],
   "source": [
    "# paper: https://arxiv.org/pdf/1805.02973\n",
    "# HEPData: https://www.hepdata.net/record/ins1672133 (Figure 2)\n",
    "\n",
    "bins = [0.5,0.7,0.95,1.1,1.30,1.5,1.70,1.9]\n"
   ]
  },
  {
   "cell_type": "code",
   "execution_count": 67,
   "id": "79eba1d7",
   "metadata": {},
   "outputs": [],
   "source": [
    "# 0-5% cent.\n",
    "\n",
    "data = np.array([0.0473,0.067,0.084,0.0989,0.1128,0.1238,0.1315,0.1403])\n",
    "stat = np.array([0.0003,0.0003,0.0004,0.0005,0.0007,0.0009,0.0011,0.0014])\n",
    "sys = np.array([0.0019,0.0024,0.0029,0.0033,0.0036,0.0038,0.0041,0.0043])\n",
    "tot = np.sqrt(stat**2 + sys**2)\n",
    "\n",
    "for i in range(len(data)):\n",
    "    print(str(data[i]) + ' ' + str(np.round(tot[i]**2,10)))\n"
   ]
  },
  {
   "cell_type": "markdown",
   "id": "ae2f1ecd",
   "metadata": {},
   "source": [
    "### v3(pT) PHENIX"
   ]
  },
  {
   "cell_type": "code",
   "execution_count": 68,
   "id": "c3efb99e",
   "metadata": {},
   "outputs": [],
   "source": [
    "# 0-5% cent.\n",
    "\n",
    "data = np.array([0.0019,0.0055,0.0073,0.0095,0.0138,0.0168,0.0141,0.0153])\n",
    "stat = np.array([0.0011,0.0014,0.0018,0.0023,0.0029,0.0037,0.0046,0.0058])\n",
    "sys = np.array([0.0009,0.0025,0.0034,0.0045,0.0066,0.008,0.0068,0.0074])\n",
    "tot = np.sqrt(stat**2 + sys**2)\n",
    "\n",
    "for i in range(len(data)):\n",
    "    print(str(data[i]) + ' ' + str(np.round(tot[i]**2,10)))\n"
   ]
  },
  {
   "cell_type": "markdown",
   "id": "98b85983",
   "metadata": {},
   "source": [
    "### v2(pT) STAR"
   ]
  },
  {
   "cell_type": "code",
   "execution_count": 69,
   "id": "c12aab96",
   "metadata": {},
   "outputs": [],
   "source": [
    "# paper: https://arxiv.org/pdf/2210.11352\n",
    "# HEPData: https://www.hepdata.net/record/ins2167879 (Figure 3_c_d)\n",
    "\n",
    "bins = [0.3,0.5,0.7,0.95,1.25,1.55,1.85]\n"
   ]
  },
  {
   "cell_type": "code",
   "execution_count": 70,
   "id": "578390e8",
   "metadata": {},
   "outputs": [],
   "source": [
    "# 0-10% cent.\n",
    "\n",
    "data = np.array([0.0321728,0.0512663,0.0643103,0.077625,0.0872628,0.0901931,0.0987698])\n",
    "stat = np.array([0.000364483,0.000493617,0.000667222,0.000781858,0.0011693,0.00173254,0.0025138])\n",
    "sys = np.array([0.00599312,0.00624081,0.00677649,0.00877871,0.0103616,0.0115366,0.0128969])\n",
    "tot = np.sqrt(stat**2 + sys**2)\n",
    "\n",
    "for i in range(len(data)):\n",
    "    print(str(data[i]) + ' ' + str(np.round(tot[i]**2,10)))\n"
   ]
  },
  {
   "cell_type": "markdown",
   "id": "d4311f19",
   "metadata": {},
   "source": [
    "### v3(pT) STAR"
   ]
  },
  {
   "cell_type": "code",
   "execution_count": 71,
   "id": "a096b724",
   "metadata": {},
   "outputs": [],
   "source": [
    "# 0-10% cent.\n",
    "\n",
    "data = np.array([0.0040084,0.0142015,0.0219627,0.0226653,0.036967,0.0557926,0.0642744])\n",
    "stat = np.array([0.00126137,0.00172694,0.00235211,0.0027213,0.00413798,0.00616843,0.00884442])\n",
    "sys = np.array([0.00413248,0.00568228,0.00489448,0.00590577,0.00971884,0.0133011,0.0127428])\n",
    "tot = np.sqrt(stat**2 + sys**2)\n",
    "\n",
    "for i in range(len(data)):\n",
    "    print(str(data[i]) + ' ' + str(np.round(tot[i]**2,10)))\n"
   ]
  },
  {
   "cell_type": "code",
   "execution_count": null,
   "id": "00e804d2",
   "metadata": {},
   "outputs": [],
   "source": []
  }
 ],
 "metadata": {
  "kernelspec": {
   "display_name": "Python 3 (ipykernel)",
   "language": "python",
   "name": "python3"
  },
  "language_info": {
   "codemirror_mode": {
    "name": "ipython",
    "version": 3
   },
   "file_extension": ".py",
   "mimetype": "text/x-python",
   "name": "python",
   "nbconvert_exporter": "python",
   "pygments_lexer": "ipython3",
   "version": "3.10.14"
  }
 },
 "nbformat": 4,
 "nbformat_minor": 5
}
