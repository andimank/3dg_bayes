{
 "cells": [
  {
   "cell_type": "markdown",
   "id": "26116217",
   "metadata": {},
   "source": [
    "# Notes on RHIC 200 GeV Au-Au & d-Au experimental data\n",
    "\n",
    "The following are lists of all experimental data and uncertainties to be used in a 200 GeV RHIC AuAu and dAu Bayesian analysis run. Links to the relevant papers and HEPData entries are provided in each grouping's cell. \n",
    "\n",
    "Whenever available, the statistical and systematic uncertainties are added in quadrature in the notebook and the total (1 sigma) errors are printed out as variances in the format to be used in the Bayesian analysis.\n",
    "\n",
    "Whenever these basic uncertainty quantities are missing, each cell grouping specifies what is missing, what is available, and what was done to extract what is available into total uncertainties for each data bin.\n",
    "\n",
    "The (incomplete) bullet list below highlights some of the more unusual cases where the 1-sigma statistical and systematic errors were not available:\n",
    "\n",
    "- AuAu dNch/eta from BRAHMS reported only statistical uncertainties in HEPData, but upon closer inspection, showed \"total uncertainties\" reported for only three representative bins in a table in the paper. These were much larger than the stat errors in HEPData, so I chose to interpolate between those three values the errors for all the eta bins. This was also done for the \"large rapidity\" measurements in that same paper.The three bins provided were all at positive rapidity, so I reflected the interpolated values across the y-axis.\n",
    "<p> <br> </p>\n",
    "- AuAu v2(eta) from STAR did not report a breakdown of statistical or systematic uncertainties. There was no HEPData entry, and the data were taken from the STAR website. The reported errors were used as total uncertainties.\n",
    "<p> <br> </p>\n",
    "- AuAu v2(eta) from PHOBOS did not report a breakdown of statistical or systematic uncertainties. There was no HEPData entry, and the data were taken from the PHOBOS website. The reported uncertainties were given as \"90% confidence intervals\" so I scaled them by a factor of 1.645 to obtain the 1-sigma values. For some bins, the uncertainties were asymmetric. I chose the maximum value between the upper and lower bounds. The ultimately, for a couple of points at forward rapidity, the plot in the paper clearly contradicts the reported obseravble on the website for the mean values. The rest of the bins are consistent. For the questionable bins, I decided to use the points from the plot in the paper, and manually scoop them in an xy grid because they seemed more reasonable. The uncertainties seemed consistent in all cases between plot and website, but this issue in reporting casts a light shadow of doubt across all the data of this measurement.\n",
    "<p> <br> </p>\n",
    "- AuAu integrated v2 from STAR did not report a breakdown of statistical or systematic uncertainties. The reported errors were used as total uncertainties. Both data and uncertainties were reported as *percent* values.\n",
    "<p> <br> </p>\n",
    "- AuAu integrated v3 from STAR reported only statistical uncertainties in HEPData, but it is clear from the plot in the paper that the systematic uncertainties are significant. I relied on Derek Everett's scooping of these uncertainties from an xy grid of the plot used in the JETSCAPE 2D analysis (the link to them in Derek's github is provided in the relevant cell). \n",
    "<p> <br> </p>\n",
    "- AuAu Identified particle (pion and anti-pion) mean-pT from PHENIX reported only systematic uncertainties in HEPData. Judging from the plot, the statistical uncertainties are large enough and may need to be scooped in the case of protons, but for pions this is impossible as the uncertainties are covered by the markers. Therefore I treat them as not significant. Furthermore, the data is averaged in the cell between pions and anti-pions (for analysis-specific purposes) without any weights. While the uncertainties, since only the systematics are relevant, are approximated as completely correlated and the individual uncertainties are simply summed (and then divided by 2).\n",
    "<p> <br> </p>\n",
    "- dAu dNch/deta from PHOBOS reported only systematic uncertainties. There was no HEPData entry, and the data were taken from the PHOBOS website. The paper specified that statistical uncertainties were negligible. As in the other PHOBOS measurement, the reported uncertainties were given as \"90% confidence intervals\" so I again scaled them by a factor of 1.645 to obtain the 1-sigma values.\n",
    "\n",
    "\n",
    "### PS: the printed lists below show the observable value and the *variance* for that measured bin.\n",
    "\n"
   ]
  },
  {
   "cell_type": "code",
   "execution_count": 1,
   "id": "ff48f111",
   "metadata": {},
   "outputs": [],
   "source": [
    "\n",
    "import numpy as np\n"
   ]
  },
  {
   "cell_type": "markdown",
   "id": "f82559a7",
   "metadata": {},
   "source": [
    "## Au-Au 200 GeV"
   ]
  },
  {
   "cell_type": "markdown",
   "id": "bcee05d7",
   "metadata": {},
   "source": [
    "### dNch/deta BRAHMS"
   ]
  },
  {
   "cell_type": "code",
   "execution_count": 2,
   "id": "8942803c",
   "metadata": {},
   "outputs": [],
   "source": [
    "# paper: https://arxiv.org/pdf/nucl-ex/0112001\n",
    "# HEPData: https://www.hepdata.net/record/ins567754 (table 1a)\n",
    "\n",
    "bins = [-2.85,-2.55,-2.25,-1.950,-1.65,-1.35,-1.06,-0.756,-0.4540,-0.153,0.149,0.4510,0.755,1.06,1.360,1.660,1.950,2.25,2.54,2.85]\n"
   ]
  },
  {
   "cell_type": "code",
   "execution_count": 3,
   "id": "059593a6",
   "metadata": {},
   "outputs": [
    {
     "name": "stdout",
     "output_type": "stream",
     "text": [
      "510.0 1984.7025\n",
      "539.0 2087.2715111111\n",
      "567.0 2185.5625\n",
      "596.0 2289.6225\n",
      "621.0 2392.5141777778\n",
      "640.0 2501.3335111111\n",
      "638.0 2612.5728444444\n",
      "636.0 2728.1470027778\n",
      "619.0 2845.8312801111\n",
      "619.0 2965.2018134444\n",
      "627.0 2965.2018134444\n",
      "631.0 2845.8312801111\n",
      "636.0 2728.1470027778\n",
      "629.0 2612.5728444444\n",
      "627.0 2501.3335111111\n",
      "620.0 2392.5141777778\n",
      "597.0 2289.6225\n",
      "569.0 2185.5625\n",
      "546.0 2087.2715111111\n",
      "520.0 1984.7025\n"
     ]
    }
   ],
   "source": [
    "# 0-5% cent - sys not specified, total given only for a few points\n",
    "\n",
    "data = np.array([510.0,539.0,567.0,596.0,621.0,640.0,638.0,636.0,619.0,619.0,627.0,631.0,636.0,629.0,627.0,620.0,597.0,569.0,546.0,520.0])\n",
    "stat = np.array([4.3,3.9,3.9,4.2,4.5,5.2,5.8,6.2,6.3,6.5,6.8,6.7,6.3,5.6,5.0,4.7,4.4,4.1,4.2,5.7])\n",
    "sys = np.array([0,0,0,0,0,0,0,0,0,0,0,0,0,0,0,0,0,0,0,0])\n",
    "#tot = np.sqrt(stat**2 + sys**2)\n",
    "\n",
    "# interpolate with the data provided in Table 1\n",
    "tot_plus = np.interp(bins[int(0.5*len(bins)):],[0,3,4.5],[55,44,22])\n",
    "# reflect for the backward rapidity side\n",
    "tot_minus = tot_plus[::-1]\n",
    "# combine into final array\n",
    "tot = np.concatenate([tot_minus,tot_plus])\n",
    "\n",
    "for i in range(len(data)):\n",
    "    print(str(data[i]) + ' ' + str(np.round(tot[i]**2,10)))"
   ]
  },
  {
   "cell_type": "code",
   "execution_count": 4,
   "id": "68e124a5",
   "metadata": {},
   "outputs": [
    {
     "name": "stdout",
     "output_type": "stream",
     "text": [
      "427.0 1395.0225\n",
      "446.0 1449.5787111111\n",
      "472.0 1501.5625\n",
      "494.0 1556.3025\n",
      "513.0 1610.1493777778\n",
      "536.0 1666.8167111111\n",
      "519.0 1724.4640444444\n",
      "511.0 1784.0768027778\n",
      "502.0 1844.5020721111\n",
      "496.0 1905.5262054444\n",
      "500.0 1905.5262054444\n",
      "505.0 1844.5020721111\n",
      "500.0 1784.0768027778\n",
      "501.0 1724.4640444444\n",
      "508.0 1666.8167111111\n",
      "504.0 1610.1493777778\n",
      "481.0 1556.3025\n",
      "464.0 1501.5625\n",
      "447.0 1449.5787111111\n",
      "442.0 1395.0225\n"
     ]
    }
   ],
   "source": [
    "# 5-10% cent - sys not specified, total given only for a few points\n",
    "\n",
    "data = np.array([427.0,446.0,472.0,494.0,513.0,536.0,519.0,511.0,502.0,496.0,500.0,505.0,500.0,501.0,508.0,504.0,481.0,464.0,447.0,442.0])\n",
    "stat = np.array([3.6,3.3,3.4,3.6,4.1,4.9,5.0,5.5,5.6,5.7,5.8,5.8,5.1,4.8,4.4,4.1,3.8,3.7,3.8,5.2])\n",
    "sys = np.array([0,0,0,0,0,0,0,0,0,0,0,0,0,0,0,0,0,0,0,0])\n",
    "#tot = np.sqrt(stat**2 + sys**2)\n",
    "\n",
    "# interpolate with the data provided in Table 1\n",
    "tot_plus = np.interp(bins[int(0.5*len(bins)):],[0,3,4.5],[44,37,18])\n",
    "# reflect for the backward rapidity side\n",
    "tot_minus = tot_plus[::-1]\n",
    "# combine into final array\n",
    "tot = np.concatenate([tot_minus,tot_plus])\n",
    "\n",
    "for i in range(len(data)):\n",
    "    print(str(data[i]) + ' ' + str(np.round(tot[i]**2,10)))"
   ]
  },
  {
   "cell_type": "code",
   "execution_count": 5,
   "id": "084fd432",
   "metadata": {},
   "outputs": [
    {
     "name": "stdout",
     "output_type": "stream",
     "text": [
      "333.0 798.0625\n",
      "340.0 827.5211111111\n",
      "357.0 855.5625\n",
      "375.0 885.0625\n",
      "392.0 914.0544444444\n",
      "391.0 944.5377777778\n",
      "394.0 975.5211111111\n",
      "386.0 1007.5334027778\n",
      "386.0 1039.9550027778\n",
      "373.0 1072.6716694444\n",
      "376.0 1072.6716694444\n",
      "374.0 1039.9550027778\n",
      "380.0 1007.5334027778\n",
      "389.0 975.5211111111\n",
      "387.0 944.5377777778\n",
      "374.0 914.0544444444\n",
      "371.0 885.0625\n",
      "351.0 855.5625\n",
      "345.0 827.5211111111\n",
      "337.0 798.0625\n"
     ]
    }
   ],
   "source": [
    "# 10-20% cent - sys not specified, total given only for a few points\n",
    "\n",
    "data = np.array([333.0,340.0,357.0,375.0,392.0,391.0,394.0,386.0,386.0,373.0,376.0,374.0,380.0,389.0,387.0,374.0,371.0,351.0,345.0,337.0])\n",
    "stat = np.array([2.2,1.9,2.0,2.3,2.5,2.7,3.1,3.3,3.6,3.6,3.5,3.5,3.3,3.3,2.8,2.4,2.5,2.3,2.4,3.1])\n",
    "sys = np.array([0,0,0,0,0,0,0,0,0,0,0,0,0,0,0,0,0,0,0,0])\n",
    "#tot = np.sqrt(stat**2 + sys**2)\n",
    "\n",
    "# interpolate with the data provided in Table 1\n",
    "tot_plus = np.interp(bins[int(0.5*len(bins)):],[0,3,4.5],[33,28,14])\n",
    "# reflect for the backward rapidity side\n",
    "tot_minus = tot_plus[::-1]\n",
    "# combine into final array\n",
    "tot = np.concatenate([tot_minus,tot_plus])\n",
    "\n",
    "for i in range(len(data)):\n",
    "    print(str(data[i]) + ' ' + str(np.round(tot[i]**2,10)))"
   ]
  },
  {
   "cell_type": "code",
   "execution_count": 6,
   "id": "97077c81",
   "metadata": {},
   "outputs": [
    {
     "name": "stdout",
     "output_type": "stream",
     "text": [
      "232.0 299.29\n",
      "239.0 321.1264\n",
      "249.0 342.25\n",
      "260.0 364.81\n",
      "270.0 387.3024\n",
      "270.0 411.2784\n",
      "270.0 435.9744\n",
      "265.0 461.8201\n",
      "258.0 488.321604\n",
      "259.0 515.380804\n",
      "255.0 515.380804\n",
      "256.0 488.321604\n",
      "260.0 461.8201\n",
      "260.0 435.9744\n",
      "266.0 411.2784\n",
      "262.0 387.3024\n",
      "257.0 364.81\n",
      "252.0 342.25\n",
      "240.0 321.1264\n",
      "236.0 299.29\n"
     ]
    }
   ],
   "source": [
    "# 20-30% cent - sys not specified, total given only for a few points\n",
    "\n",
    "data = np.array([232.0,239.0,249.0,260.0,270.0,270.0,270.0,265.0,258.0,259.0,255.0,256.0,260.0,260.0,266.0,262.0,257.0,252.0,240.0,236.0])\n",
    "stat = np.array([1.9,1.7,1.8,1.9,2.2,2.3,2.6,2.8,2.7,3.0,2.9,2.7,2.7,2.4,2.4,2.1,2.0,2.0,2.0,2.6])\n",
    "sys = np.array([0,0,0,0,0,0,0,0,0,0,0,0,0,0,0,0,0,0,0,0])\n",
    "#tot = np.sqrt(stat**2 + sys**2)\n",
    "\n",
    "# interpolate with the data provided in Table 1\n",
    "tot_plus = np.interp(bins[int(0.5*len(bins)):],[0,3,4.5],[23,17,10])\n",
    "# reflect for the backward rapidity side\n",
    "tot_minus = tot_plus[::-1]\n",
    "# combine into final array\n",
    "tot = np.concatenate([tot_minus,tot_plus])\n",
    "\n",
    "for i in range(len(data)):\n",
    "    print(str(data[i]) + ' ' + str(np.round(tot[i]**2,10)))"
   ]
  },
  {
   "cell_type": "code",
   "execution_count": 7,
   "id": "730f0f25",
   "metadata": {},
   "outputs": [
    {
     "name": "stdout",
     "output_type": "stream",
     "text": [
      "163.0 198.81\n",
      "166.0 204.6807111111\n",
      "172.0 210.25\n",
      "179.0 216.09\n",
      "183.0 221.8113777778\n",
      "182.0 227.8087111111\n",
      "185.0 233.8860444444\n",
      "175.0 240.1466777778\n",
      "174.0 246.4690671111\n",
      "174.0 252.8312004444\n",
      "173.0 252.8312004444\n",
      "175.0 246.4690671111\n",
      "174.0 240.1466777778\n",
      "175.0 233.8860444444\n",
      "184.0 227.8087111111\n",
      "178.0 221.8113777778\n",
      "177.0 216.09\n",
      "173.0 210.25\n",
      "167.0 204.6807111111\n",
      "165.0 198.81\n"
     ]
    }
   ],
   "source": [
    "# 30-40% cent - sys not specified, total given only for a few points\n",
    "\n",
    "data = np.array([163.0,166.0,172.0,179.0,183.0,182.0,185.0,175.0,174.0,174.0,173.0,175.0,174.0,175.0,184.0,178.0,177.0,173.0,167.0,165.0])\n",
    "stat = np.array([1.6,1.4,1.5,1.6,1.8,2.0,2.2,2.2,2.4,2.6,2.5,2.4,2.3,2.1,2.1,1.8,1.7,1.6,1.6,2.1])\n",
    "sys = np.array([0,0,0,0,0,0,0,0,0,0,0,0,0,0,0,0,0,0,0,0])\n",
    "#tot = np.sqrt(stat**2 + sys**2)\n",
    "\n",
    "# interpolate with the data provided in Table 1\n",
    "tot_plus = np.interp(bins[int(0.5*len(bins)):],[0,3,4.5],[16,14,7])\n",
    "# reflect for the backward rapidity side\n",
    "tot_minus = tot_plus[::-1]\n",
    "# combine into final array\n",
    "tot = np.concatenate([tot_minus,tot_plus])\n",
    "\n",
    "for i in range(len(data)):\n",
    "    print(str(data[i]) + ' ' + str(np.round(tot[i]**2,10)))"
   ]
  },
  {
   "cell_type": "code",
   "execution_count": 8,
   "id": "de82ca9d",
   "metadata": {},
   "outputs": [
    {
     "name": "stdout",
     "output_type": "stream",
     "text": [
      "105.0 81.9025\n",
      "109.0 83.7835111111\n",
      "116.0 85.5625\n",
      "118.0 87.4225\n",
      "118.0 89.2395111111\n",
      "119.0 91.1388444444\n",
      "116.0 93.0581777778\n",
      "110.0 95.0300027778\n",
      "110.0 97.0159334444\n",
      "110.0 99.0091334444\n",
      "111.0 99.0091334444\n",
      "108.0 97.0159334444\n",
      "110.0 95.0300027778\n",
      "117.0 93.0581777778\n",
      "113.0 91.1388444444\n",
      "116.0 89.2395111111\n",
      "117.0 87.4225\n",
      "113.0 85.5625\n",
      "113.0 83.7835111111\n",
      "106.0 81.9025\n"
     ]
    }
   ],
   "source": [
    "# 40-50% cent - sys not specified, total given only for a few points\n",
    "\n",
    "data = np.array([105.0,109.0,116.0,118.0,118.0,119.0,116.0,110.0,110.0,110.0,111.0,108.0,110.0,117.0,113.0,116.0,117.0,113.0,113.0,106.0])\n",
    "stat = np.array([1.2,1.0,1.2,1.3,1.4,1.6,1.6,1.8,1.9,2.1,2.1,1.9,1.7,1.9,1.5,1.4,1.4,1.2,1.3,1.5])\n",
    "sys = np.array([0,0,0,0,0,0,0,0,0,0,0,0,0,0,0,0,0,0,0,0])\n",
    "#tot = np.sqrt(stat**2 + sys**2)\n",
    "\n",
    "# interpolate with the data provided in Table 1\n",
    "tot_plus = np.interp(bins[int(0.5*len(bins)):],[0,3,4.5],[10,9,5])\n",
    "# reflect for the backward rapidity side\n",
    "tot_minus = tot_plus[::-1]\n",
    "# combine into final array\n",
    "tot = np.concatenate([tot_minus,tot_plus])\n",
    "\n",
    "for i in range(len(data)):\n",
    "    print(str(data[i]) + ' ' + str(np.round(tot[i]**2,10)))"
   ]
  },
  {
   "cell_type": "markdown",
   "id": "ddcf4cb5",
   "metadata": {},
   "source": [
    "### dNch/deta BRAHMS large rapidity"
   ]
  },
  {
   "cell_type": "code",
   "execution_count": 9,
   "id": "a48ce2f8",
   "metadata": {},
   "outputs": [],
   "source": [
    "# paper: https://arxiv.org/pdf/nucl-ex/0112001\n",
    "# HEPData: https://www.hepdata.net/record/ins567754 (table 1b)\n",
    "\n",
    "bins = [-4.7,-4.3,-4.0,-3.8,-3.5,-3.10,-2.90,-2.5,2.5,2.90,3.10,3.5,3.8,4.0,4.3,4.7]\n"
   ]
  },
  {
   "cell_type": "code",
   "execution_count": 10,
   "id": "9cf97a28",
   "metadata": {},
   "outputs": [
    {
     "name": "stdout",
     "output_type": "stream",
     "text": [
      "166.0 484.0\n",
      "198.0 621.6711111111\n",
      "259.0 860.4444444444\n",
      "332.0 1041.1377777778\n",
      "366.0 1344.4444444444\n",
      "429.0 1809.0844444444\n",
      "477.0 1968.4011111111\n",
      "512.0 2100.6944444444\n",
      "553.0 2100.6944444444\n",
      "492.0 1968.4011111111\n",
      "443.0 1809.0844444444\n",
      "394.0 1344.4444444444\n",
      "338.0 1041.1377777778\n",
      "273.0 860.4444444444\n",
      "199.0 621.6711111111\n",
      "154.0 484.0\n"
     ]
    }
   ],
   "source": [
    "# 0-5% cent - systematics not specified, total uncert. given only for a few points\n",
    "\n",
    "data = np.array([166.0,198.0,259.0,332.0,366.0,429.0,477.0,512.0,553.0,492.0,443.0,394.0,338.0,273.0,199.0,154.0])\n",
    "stat = np.array([1.2,5.3,19.0,15.0,17.0,14.0,8.9,9.9,13.0,22.0,14.0,11.0,2.4,14.0,5.4,1.9])\n",
    "sys = np.array([0,0,0,0,0,0,0,0,0,0,0,0,0,0,0,0,0,0,0,0])\n",
    "#tot = np.sqrt(stat**2 + sys**2)\n",
    "\n",
    "# interpolate with the data provided in Table 1 \n",
    "# largest |eta| bin outside interpolation range, will over estimate uncertainty\n",
    "tot_plus = np.interp(bins[int(0.5*len(bins)):],[0,3,4.5],[55,44,22])\n",
    "# reflect for the backward rapidity side\n",
    "tot_minus = tot_plus[::-1]\n",
    "# combine into final array\n",
    "tot = np.concatenate([tot_minus,tot_plus])\n",
    "\n",
    "for i in range(len(data)):\n",
    "    print(str(data[i]) + ' ' + str(np.round(tot[i]**2,10)))"
   ]
  },
  {
   "cell_type": "code",
   "execution_count": 11,
   "id": "619a84f6",
   "metadata": {},
   "outputs": [
    {
     "name": "stdout",
     "output_type": "stream",
     "text": [
      "139.0 324.0\n",
      "172.0 421.6177777778\n",
      "220.0 592.1111111111\n",
      "279.0 721.8177777778\n",
      "309.0 940.4444444444\n",
      "364.0 1276.8711111111\n",
      "401.0 1386.3211111111\n",
      "432.0 1456.6944444444\n",
      "447.0 1456.6944444444\n",
      "413.0 1386.3211111111\n",
      "373.0 1276.8711111111\n",
      "334.0 940.4444444444\n",
      "285.0 721.8177777778\n",
      "234.0 592.1111111111\n",
      "173.0 421.6177777778\n",
      "139.0 324.0\n"
     ]
    }
   ],
   "source": [
    "# 5-10% cent - systematics not specified, total uncert. given only for a few points\n",
    "\n",
    "data = np.array([139.0,172.0,220.0,279.0,309.0,364.0,401.0,432.0,447.0,413.0,373.0,334.0,285.0,234.0,173.0,139.0])\n",
    "stat = np.array([1.2,3.6,15.0,13.0,13.0,13.0,8.2,6.8,9.5,15.0,7.1,7.5,3.2,9.6,5.5,1.7])\n",
    "sys = np.array([0,0,0,0,0,0,0,0,0,0,0,0,0,0,0,0,0,0,0,0])\n",
    "#tot = np.sqrt(stat**2 + sys**2)\n",
    "\n",
    "# interpolate with the data provided in Table 1 \n",
    "# largest |eta| bin outside interpolation range, will over estimate uncertainty\n",
    "tot_plus = np.interp(bins[int(0.5*len(bins)):],[0,3,4.5],[44,37,18])\n",
    "# reflect for the backward rapidity side\n",
    "tot_minus = tot_plus[::-1]\n",
    "# combine into final array\n",
    "tot = np.concatenate([tot_minus,tot_plus])\n",
    "\n",
    "for i in range(len(data)):\n",
    "    print(str(data[i]) + ' ' + str(np.round(tot[i]**2,10)))"
   ]
  },
  {
   "cell_type": "code",
   "execution_count": 12,
   "id": "4c917f16",
   "metadata": {},
   "outputs": [
    {
     "name": "stdout",
     "output_type": "stream",
     "text": [
      "115.0 196.0\n",
      "137.0 251.7511111111\n",
      "172.0 348.4444444444\n",
      "217.0 421.6177777778\n",
      "242.0 544.4444444444\n",
      "284.0 732.6044444444\n",
      "315.0 793.3611111111\n",
      "336.0 831.3611111111\n",
      "348.0 831.3611111111\n",
      "320.0 793.3611111111\n",
      "291.0 732.6044444444\n",
      "262.0 544.4444444444\n",
      "224.0 421.6177777778\n",
      "182.0 348.4444444444\n",
      "135.0 251.7511111111\n",
      "112.0 196.0\n"
     ]
    }
   ],
   "source": [
    "# 10-20% cent - systematics not specified, total uncert. given only for a few points\n",
    "\n",
    "data = np.array([115.0,137.0,172.0,217.0,242.0,284.0,315.0,336.0,348.0,320.0,291.0,262.0,224.0,182.0,135.0,112.0])\n",
    "stat = np.array([0.77,2.1,9.4,8.7,7.9,7.1,3.7,5.8,10.0,9.3,5.7,5.6,4.7,7.9,3.2,1.1])\n",
    "sys = np.array([0,0,0,0,0,0,0,0,0,0,0,0,0,0,0,0,0,0,0,0])\n",
    "#tot = np.sqrt(stat**2 + sys**2)\n",
    "\n",
    "# interpolate with the data provided in Table 1 \n",
    "# largest |eta| bin outside interpolation range, will over estimate uncertainty\n",
    "tot_plus = np.interp(bins[int(0.5*len(bins)):],[0,3,4.5],[33,28,14])\n",
    "# reflect for the backward rapidity side\n",
    "tot_minus = tot_plus[::-1]\n",
    "# combine into final array\n",
    "tot = np.concatenate([tot_minus,tot_plus])\n",
    "\n",
    "for i in range(len(data)):\n",
    "    print(str(data[i]) + ' ' + str(np.round(tot[i]**2,10)))"
   ]
  },
  {
   "cell_type": "code",
   "execution_count": 13,
   "id": "6256a017",
   "metadata": {},
   "outputs": [
    {
     "name": "stdout",
     "output_type": "stream",
     "text": [
      "82.2 100.0\n",
      "100.0 119.5377777778\n",
      "121.0 152.1111111111\n",
      "151.0 176.0044444444\n",
      "171.0 215.1111111111\n",
      "200.0 273.3511111111\n",
      "222.0 295.84\n",
      "235.0 324.0\n",
      "239.0 324.0\n",
      "224.0 295.84\n",
      "205.0 273.3511111111\n",
      "185.0 215.1111111111\n",
      "159.0 176.0044444444\n",
      "127.0 152.1111111111\n",
      "97.5 119.5377777778\n",
      "79.6 100.0\n"
     ]
    }
   ],
   "source": [
    "# 20-30% cent - systematics not specified, total uncert. given only for a few points\n",
    "\n",
    "data = np.array([82.2,100.0,121.0,151.0,171.0,200.0,222.0,235.0,239.0,224.0,205.0,185.0,159.0,127.0,97.5,79.6])\n",
    "stat = np.array([0.68,1.6,5.9,5.1,3.4,3.4,2.7,6.6,9.3,6.5,4.4,5.3,5.3,6.3,2.2,0.92])\n",
    "sys = np.array([0,0,0,0,0,0,0,0,0,0,0,0,0,0,0,0,0,0,0,0])\n",
    "#tot = np.sqrt(stat**2 + sys**2)\n",
    "\n",
    "# interpolate with the data provided in Table 1 \n",
    "# largest |eta| bin outside interpolation range, will over estimate uncertainty\n",
    "tot_plus = np.interp(bins[int(0.5*len(bins)):],[0,3,4.5],[23,17,10])\n",
    "# reflect for the backward rapidity side\n",
    "tot_minus = tot_plus[::-1]\n",
    "# combine into final array\n",
    "tot = np.concatenate([tot_minus,tot_plus])\n",
    "\n",
    "for i in range(len(data)):\n",
    "    print(str(data[i]) + ' ' + str(np.round(tot[i]**2,10)))"
   ]
  },
  {
   "cell_type": "code",
   "execution_count": 14,
   "id": "6d22486d",
   "metadata": {},
   "outputs": [
    {
     "name": "stdout",
     "output_type": "stream",
     "text": [
      "59.1 49.0\n",
      "70.1 62.9377777778\n",
      "84.2 87.1111111111\n",
      "102.0 105.4044444444\n",
      "116.0 136.1111111111\n",
      "136.0 183.1511111111\n",
      "150.0 197.8711111111\n",
      "158.0 205.4444444444\n",
      "162.0 205.4444444444\n",
      "151.0 197.8711111111\n",
      "139.0 183.1511111111\n",
      "127.0 136.1111111111\n",
      "108.0 105.4044444444\n",
      "86.4 87.1111111111\n",
      "68.4 62.9377777778\n",
      "56.5 49.0\n"
     ]
    }
   ],
   "source": [
    "# 30-40% cent - systematics not specified, total uncert. given only for a few points\n",
    "\n",
    "data = np.array([59.1,70.1,84.2,102.0,116.0,136.0,150.0,158.0,162.0,151.0,139.0,127.0,108.0,86.4,68.4,56.5])\n",
    "stat = np.array([0.57,0.58,3.0,2.8,2.0,2.9,3.3,5.7,4.9,5.1,4.0,4.6,4.6,4.7,1.5,0.75])\n",
    "sys = np.array([0,0,0,0,0,0,0,0,0,0,0,0,0,0,0,0,0,0,0,0])\n",
    "#tot = np.sqrt(stat**2 + sys**2)\n",
    "\n",
    "# interpolate with the data provided in Table 1 \n",
    "# largest |eta| bin outside interpolation range, will over estimate uncertainty\n",
    "tot_plus = np.interp(bins[int(0.5*len(bins)):],[0,3,4.5],[16,14,7])\n",
    "# reflect for the backward rapidity side\n",
    "tot_minus = tot_plus[::-1]\n",
    "# combine into final array\n",
    "tot = np.concatenate([tot_minus,tot_plus])\n",
    "\n",
    "for i in range(len(data)):\n",
    "    print(str(data[i]) + ' ' + str(np.round(tot[i]**2,10)))"
   ]
  },
  {
   "cell_type": "code",
   "execution_count": 15,
   "id": "f0142489",
   "metadata": {
    "scrolled": true
   },
   "outputs": [
    {
     "name": "stdout",
     "output_type": "stream",
     "text": [
      "40.3 25.0\n",
      "46.7 30.6177777778\n",
      "54.7 40.1111111111\n",
      "66.2 47.1511111111\n",
      "74.3 58.7777777778\n",
      "86.8 76.2711111111\n",
      "96.2 81.6011111111\n",
      "102.0 84.0277777778\n",
      "100.0 84.0277777778\n",
      "96.3 81.6011111111\n",
      "89.4 76.2711111111\n",
      "81.8 58.7777777778\n",
      "70.2 47.1511111111\n",
      "57.6 40.1111111111\n",
      "45.3 30.6177777778\n",
      "37.9 25.0\n"
     ]
    }
   ],
   "source": [
    "# 40-50% cent - systematics not specified, total uncert. given only for a few points\n",
    "\n",
    "data = np.array([40.3,46.7,54.7,66.2,74.3,86.8,96.2,102.0,100.0,96.3,89.4,81.8,70.2,57.6,45.3,37.9])\n",
    "stat = np.array([0.47,0.6,1.5,1.7,0.84,1.7,1.2,1.8,3.6,2.8,3.2,3.3,3.3,3.2,0.62,0.61])\n",
    "sys = np.array([0,0,0,0,0,0,0,0,0,0,0,0,0,0,0,0,0,0,0,0])\n",
    "#tot = np.sqrt(stat**2 + sys**2)\n",
    "\n",
    "# interpolate with the data provided in Table 1 \n",
    "# largest |eta| bin outside interpolation range, will over estimate uncertainty\n",
    "tot_plus = np.interp(bins[int(0.5*len(bins)):],[0,3,4.5],[10,9,5])\n",
    "# reflect for the backward rapidity side\n",
    "tot_minus = tot_plus[::-1]\n",
    "# combine into final array\n",
    "tot = np.concatenate([tot_minus,tot_plus])\n",
    "\n",
    "for i in range(len(data)):\n",
    "    print(str(data[i]) + ' ' + str(np.round(tot[i]**2,10)))"
   ]
  },
  {
   "cell_type": "markdown",
   "id": "c5c33cbc",
   "metadata": {},
   "source": [
    "### v2(eta) STAR"
   ]
  },
  {
   "cell_type": "code",
   "execution_count": 16,
   "id": "bae87e67",
   "metadata": {},
   "outputs": [],
   "source": [
    "# paper: https://arxiv.org/pdf/nucl-ex/0409033\n",
    "# HEPData: N/A\n",
    "# STAR website: https://drupal.star.bnl.gov/STAR/files/starpublications/48/data.html (Figure 16)\n",
    "\n",
    "bins = [3.8,-3.6,-3.4,-3.2,-3,-2.8,-0.8,-0.6,-0.4,-0.2,0.0,0.2,0.4,0.6,0.8,2.8,3,3.2,3.4,3.6,3.8]"
   ]
  },
  {
   "cell_type": "code",
   "execution_count": 17,
   "id": "90afeb96",
   "metadata": {},
   "outputs": [
    {
     "name": "stdout",
     "output_type": "stream",
     "text": [
      "0.0279 1.44e-06\n",
      "0.0301 8.1e-07\n",
      "0.0321 6.4e-07\n",
      "0.0346 5.625e-07\n",
      "0.0376 5.329e-07\n",
      "0.0361 8.281e-07\n",
      "0.0646 3.249e-07\n",
      "0.0653 3.136e-07\n",
      "0.0655 3.249e-07\n",
      "0.0651 3.249e-07\n",
      "0.0652 3.249e-07\n",
      "0.0654 3.249e-07\n",
      "0.0655 3.249e-07\n",
      "0.0656 3.136e-07\n",
      "0.0649 3.249e-07\n",
      "0.0361 9.216e-07\n",
      "0.0367 6.084e-07\n",
      "0.0347 6.241e-07\n",
      "0.0324 7.056e-07\n",
      "0.029 9.025e-07\n",
      "0.0267 1.44e-06\n"
     ]
    }
   ],
   "source": [
    "# 20-70% cent - neither stat. nor sys. specified\n",
    "\n",
    "data = np.array([0.0279,0.0301,0.0321,0.0346,0.0376,0.0361,0.0646,0.0653,0.0655,0.0651,0.0652,0.0654,0.0655,0.0656,0.0649,0.0361,0.0367,0.0347,0.0324,0.0290,0.0267])\n",
    "stat = np.array([0,0,0,0,0,0,0,0,0,0,0,0,0,0,0,0,0,0,0,0,0])\n",
    "sys = np.array([0,0,0,0,0,0,0,0,0,0,0,0,0,0,0,0,0,0,0,0,0])\n",
    "\n",
    "#tot = np.sqrt(stat**2 + sys**2)\n",
    "tot = np.array([0.0012,0.0009,0.0008,0.00075,0.00073,0.00091,0.00057,0.00056,0.00057,0.00057,0.00057,0.00057,0.00057,0.00056,0.00057,0.00096,0.00078,0.00079,0.00084,0.00095,0.0012])\n",
    "\n",
    "for i in range(len(data)):\n",
    "    print(str(data[i]) + ' ' + str(np.round(tot[i]**2,10)))"
   ]
  },
  {
   "cell_type": "markdown",
   "id": "5a09346a",
   "metadata": {},
   "source": [
    "### v2(eta) PHOBOS"
   ]
  },
  {
   "cell_type": "code",
   "execution_count": 18,
   "id": "14b54675",
   "metadata": {},
   "outputs": [],
   "source": [
    "# paper: https://arxiv.org/pdf/nucl-ex/0407012\n",
    "# HEPData: N/A\n",
    "# PHOBOS website: https://www.sdcc.bnl.gov/phobos/Publications/Physics/Flow_v2_cent_pt/index.htm (Figure. 5)\n",
    "\n",
    "# data was misreported on website and needed to be scooped from plot\n",
    "bins = [-4.96,-4.13,-3.67,-3.04,-1.69,-1.22,-0.76,-0.31,0.31,0.76,1.22,1.69,3.04,3.67,4.13,4.96]\n"
   ]
  },
  {
   "cell_type": "code",
   "execution_count": 19,
   "id": "2f6e842b",
   "metadata": {},
   "outputs": [
    {
     "name": "stdout",
     "output_type": "stream",
     "text": [
      "0.0148 9.46037e-05\n",
      "0.0146 7.2431e-05\n",
      "0.0234 1.65889e-05\n",
      "0.0226 6.8329e-06\n",
      "0.0292 3.3259e-06\n",
      "0.0304 2.694e-06\n",
      "0.032 2.694e-06\n",
      "0.0316 2.4981e-06\n",
      "0.0316 2.4981e-06\n",
      "0.032 2.694e-06\n",
      "0.0304 2.694e-06\n",
      "0.0292 3.3259e-06\n",
      "0.0226 6.8329e-06\n",
      "0.0234 1.65889e-05\n",
      "0.0146 7.98551e-05\n",
      "0.0148 9.46037e-05\n"
     ]
    }
   ],
   "source": [
    "# 3-15% cent - neither stat. nor sys. specified, given for 90% confidence interval\n",
    "\n",
    "data = np.array([0.0148, 0.0146, 0.0234, 0.0226, 0.0292, 0.0304, 0.032, 0.0316, 0.0316, 0.032, 0.0304, 0.0292, 0.0226, 0.0234, 0.0146, 0.0148])\n",
    "stat = np.array([0,0,0,0,0,0,0,0,0,0,0,0,0,0,0,0])\n",
    "sys = np.array([0,0,0,0,0,0,0,0,0,0,0,0,0,0,0,0])\n",
    "#tot = np.sqrt(stat**2 + sys**2)\n",
    "# reported error is asymmetric, taking the max of upper and lower values\n",
    "tot_90percent = np.array([.016,.014,.0067,.0043,.003,.0027,.0027,.0026,.0026,.0027,.0027,.003,.0043,.0067,.0147,.016])\n",
    "tot = tot_90percent/1.645 # scale according to 1.645*sigma = err_90percent\n",
    "\n",
    "for i in range(len(data)):\n",
    "    print(str(data[i]) + ' ' + str(np.round(tot[i]**2,10)))"
   ]
  },
  {
   "cell_type": "code",
   "execution_count": 20,
   "id": "8895d102",
   "metadata": {},
   "outputs": [
    {
     "name": "stdout",
     "output_type": "stream",
     "text": [
      "0.0183 0.0002075701\n",
      "0.0239 2.99332e-05\n",
      "0.028 5.14555e-05\n",
      "0.035 2.92717e-05\n",
      "0.0437 7.1544e-06\n",
      "0.0467 4.2719e-06\n",
      "0.0498 3.7841e-06\n",
      "0.051 3.3259e-06\n",
      "0.051 3.3259e-06\n",
      "0.0498 3.7841e-06\n",
      "0.0467 4.2719e-06\n",
      "0.0437 7.1544e-06\n",
      "0.035 2.92717e-05\n",
      "0.028 5.14555e-05\n",
      "0.0239 2.99332e-05\n",
      "0.0183 0.0002075701\n"
     ]
    }
   ],
   "source": [
    "# 15-25% cent - neither stat. nor sys. specified, given for 90% confidence interval\n",
    "\n",
    "data = np.array([0.0183, 0.0239, 0.028, 0.035, 0.0437, 0.0467, 0.0498, 0.051, 0.051, 0.0498, 0.0467, 0.0437, 0.035, 0.028, 0.0239, 0.0183])\n",
    "stat = np.array([0,0,0,0,0,0,0,0,0,0,0,0,0,0,0,0])\n",
    "sys = np.array([0,0,0,0,0,0,0,0,0,0,0,0,0,0,0,0])\n",
    "#tot = np.sqrt(stat**2 + sys**2)\n",
    "# reported error is asymmetric, taking the max of upper and lower values\n",
    "tot_90percent = np.array([0.0237,0.0090,0.0118,0.0089,0.0044,0.0034,0.0032,0.0030,0.0030,0.0032,0.0034,0.0044,0.0089,0.0118,0.0090,0.0237])\n",
    "tot = tot_90percent/1.645 # scale according to 1.645*sigma = err_90percent\n",
    "\n",
    "for i in range(len(data)):\n",
    "    print(str(data[i]) + ' ' + str(np.round(tot[i]**2,10)))"
   ]
  },
  {
   "cell_type": "code",
   "execution_count": 21,
   "id": "1a5349b1",
   "metadata": {},
   "outputs": [
    {
     "name": "stdout",
     "output_type": "stream",
     "text": [
      "0.0209 0.0002182131\n",
      "0.0276 4.15222e-05\n",
      "0.0372 4.88724e-05\n",
      "0.0448 4.15222e-05\n",
      "0.0537 8.1633e-06\n",
      "0.057 7.1544e-06\n",
      "0.061 5.6208e-06\n",
      "0.0634 4.0244e-06\n",
      "0.0634 4.0244e-06\n",
      "0.061 5.6208e-06\n",
      "0.057 7.1544e-06\n",
      "0.0537 8.1633e-06\n",
      "0.0448 4.15222e-05\n",
      "0.0372 4.88724e-05\n",
      "0.0276 4.15222e-05\n",
      "0.0209 0.0002182131\n"
     ]
    }
   ],
   "source": [
    "# 25-50% cent - neither stat. nor sys. specified, given for 90% confidence interval\n",
    "\n",
    "data = np.array([0.0209, 0.0276, 0.0372, 0.0448, 0.0537, 0.057, 0.061, 0.0634, 0.0634, 0.061, 0.057, 0.0537, 0.0448, 0.0372, 0.0276, 0.0209])\n",
    "stat = np.array([0,0,0,0,0,0,0,0,0,0,0,0,0,0,0,0])\n",
    "sys = np.array([0,0,0,0,0,0,0,0,0,0,0,0,0,0,0,0])\n",
    "#tot = np.sqrt(stat**2 + sys**2)\n",
    "# reported error is asymmetric, taking the max of upper and lower values\n",
    "tot_90percent = np.array([0.0243,.0106,0.0115,0.0106,0.0047,0.0044,0.0039,0.0033,0.0033, 0.0039, 0.0044, 0.0047, 0.0106, 0.0115, 0.0106, 0.0243])\n",
    "tot = tot_90percent/1.645 # scale according to 1.645*sigma = err_90percent\n",
    "\n",
    "for i in range(len(data)):\n",
    "    print(str(data[i]) + ' ' + str(np.round(tot[i]**2,10)))"
   ]
  },
  {
   "cell_type": "markdown",
   "id": "8ed02346",
   "metadata": {},
   "source": [
    "### v2(pT) PHENIX"
   ]
  },
  {
   "cell_type": "code",
   "execution_count": 22,
   "id": "792e0ab4",
   "metadata": {},
   "outputs": [],
   "source": [
    "# paper: https://arxiv.org/pdf/1105.3928\n",
    "# HEPData: https://www.hepdata.net/record/ins900703\n",
    "\n",
    "bins = [0.375,0.625,0.875,1.125,1.375,1.625,1.875,]\n"
   ]
  },
  {
   "cell_type": "code",
   "execution_count": 23,
   "id": "29946a86",
   "metadata": {},
   "outputs": [
    {
     "name": "stdout",
     "output_type": "stream",
     "text": [
      "0.0169959 2.5924e-06\n",
      "0.0274202 2.986e-06\n",
      "0.0373922 3.8629e-06\n",
      "0.0462346 4.3425e-06\n",
      "0.055339 8.2885e-06\n",
      "0.0627287 8.4259e-06\n",
      "0.0683054 9.9098e-06\n"
     ]
    }
   ],
   "source": [
    "# 0-10% cent\n",
    "\n",
    "data = np.array([0.0169959,0.0274202,0.0373922,0.0462346,0.055339,0.0627287,0.0683054,])\n",
    "stat = np.array([0.000105806,0.000142779,0.000194245,0.000261545,0.000352648,0.000481697,0.000658218])\n",
    "sys = np.array([0.0016066,0.0017221,0.0019558,0.0020674,0.0028573,0.0028625,0.0030784])\n",
    "tot = np.sqrt(stat**2 + sys**2)\n",
    "\n",
    "for i in range(len(data)):\n",
    "    print(str(data[i]) + ' ' + str(np.round(tot[i]**2,10)))"
   ]
  },
  {
   "cell_type": "code",
   "execution_count": 24,
   "id": "e905c813",
   "metadata": {},
   "outputs": [
    {
     "name": "stdout",
     "output_type": "stream",
     "text": [
      "0.0298107 2.402e-06\n",
      "0.0491524 3.6129e-06\n",
      "0.0669039 5.6126e-06\n",
      "0.0831539 7.8756e-06\n",
      "0.0981141 9.1923e-06\n",
      "0.111433 1.56091e-05\n",
      "0.123612 1.13044e-05\n"
     ]
    }
   ],
   "source": [
    "# 10-20% cent\n",
    "\n",
    "data = np.array([0.0298107,0.0491524,0.0669039,0.0831539,0.0981141,0.111433,0.123612])\n",
    "stat = np.array([9.03561E-05,0.000119375,0.000161341,0.000216438,0.000290775,0.000395437,0.000537255])\n",
    "sys = np.array([0.0015472,0.001897,0.0023636,0.002798,0.0030179,0.003931,0.003319])\n",
    "tot = np.sqrt(stat**2 + sys**2)\n",
    "\n",
    "for i in range(len(data)):\n",
    "    print(str(data[i]) + ' ' + str(np.round(tot[i]**2,10)))"
   ]
  },
  {
   "cell_type": "code",
   "execution_count": 25,
   "id": "6061d12c",
   "metadata": {},
   "outputs": [
    {
     "name": "stdout",
     "output_type": "stream",
     "text": [
      "0.0413482 2.4991e-06\n",
      "0.0681018 4.5392e-06\n",
      "0.092432 6.5486e-06\n",
      "0.11367 1.055e-05\n",
      "0.133053 1.41012e-05\n",
      "0.150188 1.73102e-05\n",
      "0.164879 2.1216e-05\n"
     ]
    }
   ],
   "source": [
    "# 20-30% cent\n",
    "\n",
    "data = np.array([0.0413482,0.0681018,0.092432,0.11367,0.133053,0.150188,0.164879])\n",
    "stat = np.array([0.000103039,0.000134505,0.000181114,0.000242718,0.000325714,0.000442023,0.000598777])\n",
    "sys = np.array([0.0015775,0.0021263,0.0025526,0.003239,0.003741,0.004137,0.004567])\n",
    "tot = np.sqrt(stat**2 + sys**2)\n",
    "\n",
    "for i in range(len(data)):\n",
    "    print(str(data[i]) + ' ' + str(np.round(tot[i]**2,10)))"
   ]
  },
  {
   "cell_type": "code",
   "execution_count": 26,
   "id": "5dbb7e04",
   "metadata": {},
   "outputs": [
    {
     "name": "stdout",
     "output_type": "stream",
     "text": [
      "0.049085 3.0821e-06\n",
      "0.0814801 6.4784e-06\n",
      "0.109918 1.06605e-05\n",
      "0.135116 1.38586e-05\n",
      "0.156499 2.00266e-05\n",
      "0.176096 2.48966e-05\n",
      "0.192277 2.82335e-05\n"
     ]
    }
   ],
   "source": [
    "# 30-40% cent\n",
    "\n",
    "data = np.array([0.049085,0.0814801,0.109918,0.135116,0.156499,0.176096,0.192277])\n",
    "stat = np.array([0.000130777,0.000169935,0.000229005,0.000307425,0.000413164,0.00056109,0.000759255])\n",
    "sys = np.array([0.0017507,0.0025396,0.003257,0.00371,0.004456,0.004958,0.005259])\n",
    "tot = np.sqrt(stat**2 + sys**2)\n",
    "\n",
    "for i in range(len(data)):\n",
    "    print(str(data[i]) + ' ' + str(np.round(tot[i]**2,10)))"
   ]
  },
  {
   "cell_type": "code",
   "execution_count": 27,
   "id": "07599629",
   "metadata": {},
   "outputs": [
    {
     "name": "stdout",
     "output_type": "stream",
     "text": [
      "0.0529655 5.5124e-06\n",
      "0.0889087 9.9317e-06\n",
      "0.119992 1.46522e-05\n",
      "0.147327 1.98619e-05\n",
      "0.170525 2.93061e-05\n",
      "0.191597 3.55541e-05\n",
      "0.208442 3.73098e-05\n"
     ]
    }
   ],
   "source": [
    "# 40-50% cent\n",
    "\n",
    "data = np.array([0.0529655,0.0889087,0.119992,0.147327,0.170525,0.191597,0.208442])\n",
    "stat = np.array([0.000184312,0.000240157,0.000325007,0.000438916,0.00059241,0.000806002,0.00109073])\n",
    "sys = np.array([0.0023406,0.0031423,0.003814,0.004435,0.005381,0.005908,0.00601])\n",
    "tot = np.sqrt(stat**2 + sys**2)\n",
    "\n",
    "for i in range(len(data)):\n",
    "    print(str(data[i]) + ' ' + str(np.round(tot[i]**2,10)))"
   ]
  },
  {
   "cell_type": "code",
   "execution_count": 28,
   "id": "b01c6d60",
   "metadata": {},
   "outputs": [
    {
     "name": "stdout",
     "output_type": "stream",
     "text": [
      "0.0535787 1.19148e-05\n",
      "0.0917667 1.97752e-05\n",
      "0.124355 2.94488e-05\n",
      "0.153979 3.85173e-05\n",
      "0.17449 5.52726e-05\n",
      "0.196687 4.6472e-05\n",
      "0.212261 4.25607e-05\n"
     ]
    }
   ],
   "source": [
    "# 50-60% cent\n",
    "\n",
    "data = np.array([0.0535787,0.0917667,0.124355,0.153979,0.17449,0.196687,0.212261])\n",
    "stat = np.array([0.000299071,0.000393356,0.000537378,0.000731235,0.000992541,0.00135507,0.00183659])\n",
    "sys = np.array([0.0034388,0.0044295,0.0054,0.006163,0.007368,0.006681,0.00626])\n",
    "tot = np.sqrt(stat**2 + sys**2)\n",
    "\n",
    "for i in range(len(data)):\n",
    "    print(str(data[i]) + ' ' + str(np.round(tot[i]**2,10)))"
   ]
  },
  {
   "cell_type": "markdown",
   "id": "46b27496",
   "metadata": {},
   "source": [
    "### v3(pT) PHENIX"
   ]
  },
  {
   "cell_type": "code",
   "execution_count": 29,
   "id": "36843ba3",
   "metadata": {},
   "outputs": [
    {
     "name": "stdout",
     "output_type": "stream",
     "text": [
      "0.00589457 2.875e-07\n",
      "0.013108 5.069e-07\n",
      "0.0215965 1.3381e-06\n",
      "0.0312278 1.4256e-06\n",
      "0.0395014 3.2137e-06\n",
      "0.0480923 5.2866e-06\n",
      "0.0587106 8.0351e-06\n"
     ]
    }
   ],
   "source": [
    "# 0-10% cent\n",
    "\n",
    "data = np.array([0.00589457,0.013108,0.0215965,0.0312278,0.0395014,0.0480923,0.0587106])\n",
    "stat = np.array([0.000181292,0.000245442,0.000335275,0.000452831,0.000610288,0.000833135,0.00113678])\n",
    "sys = np.array([0.00050464,0.0006683,0.0011071,0.0011048,0.0016856,0.002143,0.0025967])\n",
    "tot = np.sqrt(stat**2 + sys**2)\n",
    "\n",
    "for i in range(len(data)):\n",
    "    print(str(data[i]) + ' ' + str(np.round(tot[i]**2,10)))"
   ]
  },
  {
   "cell_type": "code",
   "execution_count": 30,
   "id": "ba3a2835",
   "metadata": {},
   "outputs": [
    {
     "name": "stdout",
     "output_type": "stream",
     "text": [
      "0.00795421 7.99e-07\n",
      "0.0170664 1.3357e-06\n",
      "0.0275343 3.9408e-06\n",
      "0.0376689 4.7201e-06\n",
      "0.0489483 1.085e-05\n",
      "0.0605869 1.06794e-05\n",
      "0.0703604 1.64878e-05\n"
     ]
    }
   ],
   "source": [
    "# 10-20% cent\n",
    "\n",
    "data = np.array([0.00795421,0.0170664,0.0275343,0.0376689,0.0489483,0.0605869,0.0703604])\n",
    "stat = np.array([0.000204415,0.000271467,0.000368793,0.00049599,0.000666459,0.000906131,0.00122886])\n",
    "sys = np.array([0.00087016,0.0011234,0.0019506,0.0021152,0.0032258,0.0031398,0.0038701])\n",
    "tot = np.sqrt(stat**2 + sys**2)\n",
    "\n",
    "for i in range(len(data)):\n",
    "    print(str(data[i]) + ' ' + str(np.round(tot[i]**2,10)))"
   ]
  },
  {
   "cell_type": "code",
   "execution_count": 31,
   "id": "e74e4621",
   "metadata": {},
   "outputs": [
    {
     "name": "stdout",
     "output_type": "stream",
     "text": [
      "0.00923883 8.232e-07\n",
      "0.0201636 3.0935e-06\n",
      "0.0315953 5.5919e-06\n",
      "0.0431779 1.23537e-05\n",
      "0.0549698 1.17339e-05\n",
      "0.0655922 2.36619e-05\n",
      "0.0750559 3.30282e-05\n"
     ]
    }
   ],
   "source": [
    "# 20-30% cent\n",
    "\n",
    "data = np.array([0.00923883,0.0201636,0.0315953,0.0431779,0.0549698,0.0655922,0.0750559])\n",
    "stat = np.array([0.000272997,0.000358979,0.000486183,0.000653479,0.000878561,0.00119097,0.00161202])\n",
    "sys = np.array([0.00086527,0.0017218,0.0023142,0.0034535,0.0033109,0.0047163,0.0055163])\n",
    "tot = np.sqrt(stat**2 + sys**2)\n",
    "\n",
    "for i in range(len(data)):\n",
    "    print(str(data[i]) + ' ' + str(np.round(tot[i]**2,10)))"
   ]
  },
  {
   "cell_type": "code",
   "execution_count": 32,
   "id": "f81b76ec",
   "metadata": {},
   "outputs": [
    {
     "name": "stdout",
     "output_type": "stream",
     "text": [
      "0.00984431 2.034e-06\n",
      "0.0202271 6.525e-06\n",
      "0.0338725 1.55403e-05\n",
      "0.0470711 2.04223e-05\n",
      "0.0599705 2.74454e-05\n",
      "0.0680346 2.10309e-05\n",
      "0.0769577 5.77244e-05\n"
     ]
    }
   ],
   "source": [
    "# 30-40% cent\n",
    "\n",
    "data = np.array([0.00984431,0.0202271,0.0338725,0.0470711,0.0599705,0.0680346,0.0769577])\n",
    "stat = np.array([0.000398156,0.000521062,0.000708624,0.00095657,0.00128736,0.00174348,0.00235487])\n",
    "sys = np.array([0.00136949,0.0025007,0.0038779,0.0044167,0.0050782,0.0042416,0.0072235])\n",
    "tot = np.sqrt(stat**2 + sys**2)\n",
    "\n",
    "for i in range(len(data)):\n",
    "    print(str(data[i]) + ' ' + str(np.round(tot[i]**2,10)))"
   ]
  },
  {
   "cell_type": "code",
   "execution_count": 33,
   "id": "4bf4dafc",
   "metadata": {},
   "outputs": [
    {
     "name": "stdout",
     "output_type": "stream",
     "text": [
      "0.00975617 7.783e-06\n",
      "0.0217079 1.58173e-05\n",
      "0.034823 8.3821e-06\n",
      "0.0476928 3.28424e-05\n",
      "0.0561413 4.90252e-05\n",
      "0.0693111 6.95825e-05\n",
      "0.0741277 0.0001022573\n"
     ]
    }
   ],
   "source": [
    "# 40-50% cent\n",
    "\n",
    "data = np.array([0.00975617,0.0217079,0.034823,0.0476928,0.0561413,0.0693111,0.0741277])\n",
    "stat = np.array([0.00063692,0.000837138,0.00114114,0.00155012,0.00208872,0.00284102,0.003837])\n",
    "sys = np.array([0.00271613,0.003888,0.0026608,0.0055172,0.006683,0.0078429,0.009356])\n",
    "tot = np.sqrt(stat**2 + sys**2)\n",
    "\n",
    "for i in range(len(data)):\n",
    "    print(str(data[i]) + ' ' + str(np.round(tot[i]**2,10)))"
   ]
  },
  {
   "cell_type": "code",
   "execution_count": 34,
   "id": "80faf893",
   "metadata": {},
   "outputs": [
    {
     "name": "stdout",
     "output_type": "stream",
     "text": [
      "0.00951564 1.00574e-05\n",
      "0.0196241 9.5827e-06\n",
      "0.0337283 8.39075e-05\n",
      "0.0449387 0.0001448392\n",
      "0.0521614 0.0001245056\n",
      "0.0681753 0.0002954166\n",
      "0.0694692 0.0002486307\n"
     ]
    }
   ],
   "source": [
    "# 50-60% cent\n",
    "\n",
    "data = np.array([0.00951564,0.0196241,0.0337283,0.0449387,0.0521614,0.0681753,0.0694692])\n",
    "stat = np.array([0.00113896,0.00150487,0.00207451,0.00283886,0.00384366,0.00526136,0.00711443])\n",
    "sys = np.array([0.00295976,0.0027052,0.0089221,0.0116953,0.0104753,0.0163626,0.0140718])\n",
    "tot = np.sqrt(stat**2 + sys**2)\n",
    "\n",
    "for i in range(len(data)):\n",
    "    print(str(data[i]) + ' ' + str(np.round(tot[i]**2,10)))"
   ]
  },
  {
   "cell_type": "markdown",
   "id": "bd1131fb",
   "metadata": {},
   "source": [
    "### v4(pT) PHENIX"
   ]
  },
  {
   "cell_type": "code",
   "execution_count": 35,
   "id": "25b07c03",
   "metadata": {},
   "outputs": [
    {
     "name": "stdout",
     "output_type": "stream",
     "text": [
      "0.00227273 3.255e-07\n",
      "0.00651997 9.982e-07\n",
      "0.00929623 2.3649e-06\n",
      "0.0161046 2.7356e-06\n",
      "0.0242414 7.4844e-06\n",
      "0.0261195 2.65081e-05\n",
      "0.0380971 1.40863e-05\n"
     ]
    }
   ],
   "source": [
    "# 0-10% cent\n",
    "\n",
    "data = np.array([0.00227273,0.00651997,0.00929623,0.0161046,0.0242414,0.0261195,0.0380971])\n",
    "stat = np.array([0.000436254,0.00059302,0.000809231,0.00109995,0.00149416,0.00202301,0.00277526])\n",
    "sys = np.array([0.0003677,0.00080408,0.00130767,0.0012352,0.0022917,0.0047345,0.0025267])\n",
    "tot = np.sqrt(stat**2 + sys**2)\n",
    "\n",
    "for i in range(len(data)):\n",
    "    print(str(data[i]) + ' ' + str(np.round(tot[i]**2,10)))"
   ]
  },
  {
   "cell_type": "code",
   "execution_count": 36,
   "id": "67408af0",
   "metadata": {},
   "outputs": [
    {
     "name": "stdout",
     "output_type": "stream",
     "text": [
      "0.00341712 2.0193e-06\n",
      "0.00883622 9.7008e-06\n",
      "0.0160356 1.4625e-05\n",
      "0.0237703 2.2777e-05\n",
      "0.0308472 2.9193e-05\n",
      "0.0422317 4.5421e-05\n",
      "0.0502157 5.8172e-05\n"
     ]
    }
   ],
   "source": [
    "# 10-20% cent\n",
    "\n",
    "data = np.array([0.00341712,0.00883622,0.0160356,0.0237703,0.0308472,0.0422317,0.0502157])\n",
    "stat = np.array([0.000538267,0.00071987,0.000990739,0.00134426,0.00180399,0.00246129,0.00331494])\n",
    "sys = np.array([0.00131512,0.00303028,0.0036937,0.0045793,0.005093,0.006274,0.006869])\n",
    "tot = np.sqrt(stat**2 + sys**2)\n",
    "\n",
    "for i in range(len(data)):\n",
    "    print(str(data[i]) + ' ' + str(np.round(tot[i]**2,10)))"
   ]
  },
  {
   "cell_type": "code",
   "execution_count": 37,
   "id": "6913651c",
   "metadata": {},
   "outputs": [
    {
     "name": "stdout",
     "output_type": "stream",
     "text": [
      "0.00492819 6.2372e-06\n",
      "0.0145179 1.94811e-05\n",
      "0.0213686 1.88491e-05\n",
      "0.0317344 3.38144e-05\n",
      "0.0388609 5.14984e-05\n",
      "0.0508063 5.28903e-05\n",
      "0.0540187 9.40091e-05\n"
     ]
    }
   ],
   "source": [
    "# 20-30% cent\n",
    "\n",
    "data = np.array([0.00492819,0.0145179,0.0213686,0.0317344,0.0388609,0.0508063,0.0540187])\n",
    "stat = np.array([0.000726712,0.000990765,0.00135648,0.00184876,0.00244962,0.00333,0.00439877])\n",
    "sys = np.array([0.00238938,0.0043011,0.0041242,0.0055133,0.0067452,0.0064654,0.0086406])\n",
    "tot = np.sqrt(stat**2 + sys**2)\n",
    "\n",
    "for i in range(len(data)):\n",
    "    print(str(data[i]) + ' ' + str(np.round(tot[i]**2,10)))"
   ]
  },
  {
   "cell_type": "code",
   "execution_count": 38,
   "id": "1ee7d5e7",
   "metadata": {},
   "outputs": [
    {
     "name": "stdout",
     "output_type": "stream",
     "text": [
      "0.00707543 1.06738e-05\n",
      "0.0146112 2.24183e-05\n",
      "0.0258145 5.49989e-05\n",
      "0.0359297 5.25746e-05\n",
      "0.0421269 4.92735e-05\n",
      "0.0558727 0.0001113117\n",
      "0.0705198 0.0001055307\n"
     ]
    }
   ],
   "source": [
    "# 30-40% cent\n",
    "\n",
    "data = np.array([0.00707543,0.0146112,0.0258145,0.0359297,0.0421269,0.0558727,0.0705198])\n",
    "stat = np.array([0.00108068,0.00145094,0.00202642,0.00277597,0.00364558,0.00492705,0.00659385])\n",
    "sys = np.array([0.00308317,0.004507,0.0071339,0.0066984,0.0059986,0.0093293,0.0078773])\n",
    "tot = np.sqrt(stat**2 + sys**2)\n",
    "\n",
    "for i in range(len(data)):\n",
    "    print(str(data[i]) + ' ' + str(np.round(tot[i]**2,10)))"
   ]
  },
  {
   "cell_type": "code",
   "execution_count": 39,
   "id": "bf3881bf",
   "metadata": {},
   "outputs": [
    {
     "name": "stdout",
     "output_type": "stream",
     "text": [
      "0.00903684 1.60493e-05\n",
      "0.015661 6.62234e-05\n",
      "0.0297691 0.0001944102\n",
      "0.0386156 0.0002370113\n",
      "0.0441633 0.0003814819\n",
      "0.051425 0.0004559698\n",
      "0.0961514 0.0008744315\n"
     ]
    }
   ],
   "source": [
    "# 40-50% cent\n",
    "\n",
    "data = np.array([0.00903684,0.015661,0.0297691,0.0386156,0.0441633,0.051425,0.0961514])\n",
    "stat = np.array([0.00247173,0.00352208,0.00533278,0.00728882,0.00918913,0.0118235,0.0173932])\n",
    "sys = np.array([0.00315276,0.0073361,0.012883,0.0135604,0.0172349,0.0177813,0.0239146])\n",
    "tot = np.sqrt(stat**2 + sys**2)\n",
    "\n",
    "for i in range(len(data)):\n",
    "    print(str(data[i]) + ' ' + str(np.round(tot[i]**2,10)))"
   ]
  },
  {
   "cell_type": "markdown",
   "id": "476bd0bd",
   "metadata": {},
   "source": [
    "### v2 integrated STAR"
   ]
  },
  {
   "cell_type": "code",
   "execution_count": 40,
   "id": "a11fb78f",
   "metadata": {},
   "outputs": [],
   "source": [
    "# paper: https://arxiv.org/pdf/nucl-ex/0409033\n",
    "# HEPData: https://www.hepdata.net/record/ins660793 (Figure 29a)\n",
    "\n",
    "bins = [2.5,7.5,15,25,35,45]\n"
   ]
  },
  {
   "cell_type": "code",
   "execution_count": 41,
   "id": "f361846e",
   "metadata": {},
   "outputs": [
    {
     "name": "stdout",
     "output_type": "stream",
     "text": [
      "0.0241 9.2e-09\n",
      "0.0355 7.7e-09\n",
      "0.0497 4.4e-09\n",
      "0.0642 5.6e-09\n",
      "0.0729 8.8e-09\n",
      "0.0764 1.69e-08\n"
     ]
    }
   ],
   "source": [
    "# no stat. or sys. uncertainties specified\n",
    "# data and errors reported in *percent*\n",
    "\n",
    "data = np.array([0.0241,0.0355,0.0497,0.0642,0.0729,0.0764])\n",
    "stat = np.array([0,0,0,0,0,0])\n",
    "sys = np.array([0,0,0,0,0,0])\n",
    "#tot = np.sqrt(stat**2 + sys**2)\n",
    "tot = np.array([9.599999999999999e-05,8.800000000000001e-05,6.6e-05, 7.5e-05,9.400000000000001e-05,0.00013])\n",
    "\n",
    "for i in range(len(data)):\n",
    "    print(str(data[i]) + ' ' + str(np.round(tot[i]**2,10)))\n"
   ]
  },
  {
   "cell_type": "markdown",
   "id": "6bff0d21",
   "metadata": {},
   "source": [
    "### v3 integrated STAR"
   ]
  },
  {
   "cell_type": "code",
   "execution_count": 42,
   "id": "cab2969d",
   "metadata": {},
   "outputs": [],
   "source": [
    "# paper: https://arxiv.org/pdf/1301.2187\n",
    "# HEPData: https://www.hepdata.net/record/ins1210062\n",
    "\n",
    "bins = [2.5,7.5,15,25,35,45]\n"
   ]
  },
  {
   "cell_type": "code",
   "execution_count": 43,
   "id": "3324083c",
   "metadata": {},
   "outputs": [
    {
     "name": "stdout",
     "output_type": "stream",
     "text": [
      "0.0138 1.1981e-06\n",
      "0.0157 3.125e-07\n",
      "0.0175 3.125e-07\n",
      "0.0183 2.501e-07\n",
      "0.0187 1.489e-07\n",
      "0.0181 1.384e-07\n"
     ]
    }
   ],
   "source": [
    "# only stat. uncertainties specified in HEPData\n",
    "# sys. uncertainties scooped by Derek Everett directly from plot (taken from https://github.com/derekeverett/HIC_experimental_data/blob/master/Au-Au-200/STAR/v32.dat)\n",
    "\n",
    "data = np.array([0.0138,0.0157,0.0175,0.0183,0.0187,0.0181])\n",
    "stat = np.array([0.0001,0.0001,0.0001,0.0001,0.0002,0.0003])\n",
    "sys = np.array([0.00109,0.00055,0.00055,0.00049,0.00033,0.00022])\n",
    "tot = np.sqrt(stat**2 + sys**2)\n",
    "\n",
    "for i in range(len(data)):\n",
    "    print(str(data[i]) + ' ' + str(np.round(tot[i]**2,10)))\n"
   ]
  },
  {
   "cell_type": "markdown",
   "id": "d09cc94c",
   "metadata": {},
   "source": [
    "### identified particle (pion) integrated mean-pT PHENIX"
   ]
  },
  {
   "cell_type": "code",
   "execution_count": 44,
   "id": "2f6d7cee",
   "metadata": {},
   "outputs": [],
   "source": [
    "# paper: https://arxiv.org/pdf/nucl-ex/0307022\n",
    "# HEPData: https://www.hepdata.net/record/ins624474 (Figure 11)\n",
    "\n",
    "# average between particle/anti-particle data \n",
    "# and add errors in quadriture and divide by 2\n",
    "bins = [2.5,7.5,12.5,17.5,25,35,45,55]\n"
   ]
  },
  {
   "cell_type": "code",
   "execution_count": 45,
   "id": "558557f5",
   "metadata": {},
   "outputs": [
    {
     "name": "stdout",
     "output_type": "stream",
     "text": [
      "0.453 0.00105625\n",
      "0.452 0.001089\n",
      "0.4505 0.001089\n",
      "0.448 0.00112225\n",
      "0.4455 0.00119025\n",
      "0.438 0.001225\n",
      "0.4275 0.001225\n",
      "0.414 0.00119025\n"
     ]
    }
   ],
   "source": [
    "# stat. errors are not specified on HEPData and are too small to be scooped\n",
    "# from plot for the pions, treated as negligible\n",
    "\n",
    "data_piplus = np.array([0.451,0.45,0.448,0.447,0.444,0.436,0.426,0.412])\n",
    "data_piminus = np.array([0.455,0.454,0.453,0.449,0.447,0.44,0.429,0.416])\n",
    "data = (data_piplus + data_piminus)/2\n",
    "\n",
    "stat_piplus = np.array([0,0,0,0,0,0,0,0])\n",
    "sys_piplus = np.array([0.033,0.033,0.033,0.034,0.035,0.035,0.035,0.035])\n",
    "tot_piplus = np.sqrt(stat_piplus**2 + sys_piplus**2)\n",
    "\n",
    "stat_piminus = np.array([0,0,0,0,0,0,0,0])\n",
    "sys_piminus = np.array([0.032,0.033,0.033,0.033,0.034,0.035,0.035,0.034])\n",
    "tot_piminus = np.sqrt(stat_piminus**2 + sys_piminus**2)\n",
    "\n",
    "#tot = np.sqrt(tot_piplus**2 + tot_piminus**2)\n",
    "# treat as highly correlated and take a simple sum of the errors\n",
    "tot = (tot_piplus + tot_piminus)/2\n",
    "\n",
    "for i in range(len(data)):\n",
    "    print(str(data[i]) + ' ' + str(np.round(tot[i]**2,10)))\n"
   ]
  },
  {
   "cell_type": "markdown",
   "id": "cefff5e7",
   "metadata": {},
   "source": [
    "## d-Au 200 GeV"
   ]
  },
  {
   "cell_type": "markdown",
   "id": "52fda5e3",
   "metadata": {},
   "source": [
    "### dNch/deta PHOBOS"
   ]
  },
  {
   "cell_type": "code",
   "execution_count": 46,
   "id": "656faa32",
   "metadata": {},
   "outputs": [],
   "source": [
    "# paper: https://arxiv.org/pdf/nucl-ex/0409021\n",
    "# HEPData: N/A\n",
    "# PHOBOS website: https://www.sdcc.bnl.gov/phobos/Publications/Physics/dAu_mult_centrality/index.htm  (Figure 1)\n",
    "\n",
    "bins = [-5.3,-5.1,-4.9,-4.7,-4.5,-4.3,-4.1,-3.9,-3.7,-3.5,-3.3,-3.1,-2.9,-2.7,-2.5,-2.3,-2.1,-1.9,-1.7,-1.5,-1.3,-1.1,-0.9,-0.7,-0.5,-0.3,-0.1,0.1,0.3,0.5,0.7,0.9,1.1,1.3,1.5,1.7,1.9,2.1,2.3,2.5,2.7,2.9,3.1,3.3,3.5,3.7,3.9,4.1,4.3,4.5,4.7,4.9,5.1,5.3]\n"
   ]
  },
  {
   "cell_type": "code",
   "execution_count": 47,
   "id": "5ab8ca95",
   "metadata": {},
   "outputs": [
    {
     "name": "stdout",
     "output_type": "stream",
     "text": [
      "14.770778 3.9349414836\n",
      "15.775605 2.8995402617\n",
      "16.03064 3.6114577763\n",
      "16.89617 3.0460285903\n",
      "16.786045 4.8234119274\n",
      "17.798939 3.8834416561\n",
      "18.715219 3.2474230918\n",
      "19.412439 3.0837857947\n",
      "20.857679 1.5258767292\n",
      "21.417221 1.4954717722\n",
      "22.587006 0.6395157147\n",
      "22.248688 1.5474588654\n",
      "22.56218 1.5230275671\n",
      "22.56093 1.823688522\n",
      "22.749557 1.6402882519\n",
      "22.928396 1.3067283377\n",
      "22.81316 1.2315089706\n",
      "22.960215 0.7132095126\n",
      "22.670698 0.6044594591\n",
      "22.148575 0.6284094319\n",
      "21.615126 0.5877007253\n",
      "20.996445 0.57335184\n",
      "20.057413 0.8502218852\n",
      "19.405575 0.822956692\n",
      "18.779785 0.7848333507\n",
      "18.202597 0.7351326751\n",
      "17.743143 0.6229824946\n",
      "17.245951 0.6107645788\n",
      "16.777397 0.6305093687\n",
      "16.401293 0.6130956638\n",
      "16.192678 0.4795288872\n",
      "15.945663 0.400681304\n",
      "15.68944 0.3240315477\n",
      "15.261436 0.3380712011\n",
      "14.931284 0.2382947254\n",
      "14.234889 0.3103831008\n",
      "13.501287 0.3350608127\n",
      "12.741189 0.2953602025\n",
      "11.611946 0.4390049258\n",
      "10.639478 0.3919536355\n",
      "9.596102 0.3449045102\n",
      "8.582106 0.2539908772\n",
      "7.673891 0.1226672911\n",
      "6.604158 0.0954941494\n",
      "5.477372 0.1124882667\n",
      "4.537561 0.0878086407\n",
      "3.345261 0.2210485964\n",
      "2.578927 0.2035616919\n",
      "2.065141 0.120568103\n",
      "1.75734 0.0343289938\n",
      "1.288609 0.0338904598\n",
      "0.956051 0.0245631782\n",
      "0.668134 0.0229019004\n",
      "0.53583 0.0085735216\n"
     ]
    }
   ],
   "source": [
    "# 0-20% cent - statistical \"negligible\" not specified, sys. uncert. given for 90% confidence interval\n",
    "\n",
    "data = np.array([14.770778,15.775605,16.030640,16.896170,16.786045,17.798939,18.715219,19.412439,20.857679,21.417221,22.587006,22.248688,22.562180,22.560930,22.749557,22.928396,22.813160,22.960215,22.670698,22.148575,21.615126,20.996445,20.057413,19.405575,18.779785,18.202597,17.743143,17.245951,16.777397,16.401293,16.192678,15.945663,15.689440,15.261436,14.931284,14.234889,13.501287,12.741189,11.611946,10.639478,9.596102,8.582106,7.673891,6.604158,5.477372,4.537561,3.345261,2.578927,2.065141,1.757340,1.288609,0.956051,0.668134,0.535830])\n",
    "stat = np.array([0,0,0,0,0,0,0,0,0,0,0,0,0,0,0,0,0,0,0,0,0,0,0,0,0,0,0,0,0,0,0,0,0,0,0,0,0,0,0,0,0,0,0,0,0,0,0,0,0,0,0,0,0,0])\n",
    "# reported error is asymmetric, taking the max of upper and lower values\n",
    "sys = np.array([3.263135,2.801112,3.126131,2.870998,3.612793,3.241711,2.964390,2.888737,2.032009,2.011662,1.315502,2.046329,2.030111,2.221474,2.106813,1.880436,1.825512,1.389231,1.278938,1.304029,1.261084,1.245594,1.516813,1.492294,1.457319,1.410421,1.298386,1.285591,1.306206,1.288042,1.139130,1.041275,0.936396,0.956467,0.803014,0.916463,0.952199,0.894009,1.089935,1.029872,0.966085,0.829039,0.576143,0.508340,0.551721,0.487455,0.773410,0.742188,0.571192,0.304787,0.302834,0.257815,0.248944,0.152316])\n",
    "tot_90percent = np.sqrt(stat**2 + sys**2)\n",
    "tot = tot_90percent/1.645 # scale according to 1.645*sigma = err_90percent\n",
    "\n",
    "\n",
    "for i in range(len(data)):\n",
    "    print(str(data[i]) + ' ' + str(np.round(tot[i]**2,10)))"
   ]
  },
  {
   "cell_type": "markdown",
   "id": "58b4840f",
   "metadata": {},
   "source": [
    "### v2(eta) PHENIX"
   ]
  },
  {
   "cell_type": "code",
   "execution_count": 48,
   "id": "0ea0e6aa",
   "metadata": {},
   "outputs": [],
   "source": [
    "# paper: https://arxiv.org/pdf/1807.11928\n",
    "# HEPData: https://www.hepdata.net/record/ins1684475 (Figure 4)\n",
    "\n",
    "bins = [-0.30,-0.1,0.1,0.30,1.20,1.4,1.6,1.80,2.0,2.2,2.4,2.6,2.8,2.95]\n"
   ]
  },
  {
   "cell_type": "code",
   "execution_count": 49,
   "id": "c0a3222e",
   "metadata": {},
   "outputs": [
    {
     "name": "stdout",
     "output_type": "stream",
     "text": [
      "0.046 1.40869e-05\n",
      "0.045 1.39925e-05\n",
      "0.0426 1.25e-05\n",
      "0.0412 1.12381e-05\n",
      "0.0362 1.01e-05\n",
      "0.0344 8.1104e-06\n",
      "0.0321 6.8969e-06\n",
      "0.0308 6.34e-06\n",
      "0.0293 5.8441e-06\n",
      "0.0276 4.9361e-06\n",
      "0.0256 4.5396e-06\n",
      "0.0239 3.8404e-06\n",
      "0.0202 3.2e-06\n",
      "0.0165 7.94e-06\n"
     ]
    }
   ],
   "source": [
    "# 0-5% cent.\n",
    "\n",
    "data = np.array([0.046,0.045,0.0426,0.0412,0.0362,0.0344,0.0321,0.0308,0.0293,0.0276,0.0256,0.0239,0.0202,0.0165])\n",
    "stat = np.array([0.00063,0.00055,0.0005,0.00059,0.0013,0.00052,0.00037,0.0003,0.00029,0.00031,0.00036,0.00048,0.0008,0.0025])\n",
    "sys = np.array([0.0037,0.0037,0.0035,0.0033,0.0029,0.0028,0.0026,0.0025,0.0024,0.0022,0.0021,0.0019,0.0016,0.0013])\n",
    "tot = np.sqrt(stat**2 + sys**2)\n",
    "\n",
    "for i in range(len(data)):\n",
    "    print(str(data[i]) + ' ' + str(np.round(tot[i]**2,10)))\n"
   ]
  },
  {
   "cell_type": "markdown",
   "id": "f9bebb0f",
   "metadata": {},
   "source": [
    "### v2(pT) PHENIX"
   ]
  },
  {
   "cell_type": "code",
   "execution_count": 50,
   "id": "93c78e35",
   "metadata": {},
   "outputs": [],
   "source": [
    "# paper: https://arxiv.org/pdf/1805.02973\n",
    "# HEPData: https://www.hepdata.net/record/ins1672133 (Figure 2)\n",
    "\n",
    "bins = [0.5,0.7,0.95,1.1,1.30,1.5,1.70,1.9]\n"
   ]
  },
  {
   "cell_type": "code",
   "execution_count": 51,
   "id": "79eba1d7",
   "metadata": {},
   "outputs": [
    {
     "name": "stdout",
     "output_type": "stream",
     "text": [
      "0.0473 3.7e-06\n",
      "0.067 5.85e-06\n",
      "0.084 8.57e-06\n",
      "0.0989 1.114e-05\n",
      "0.1128 1.345e-05\n",
      "0.1238 1.525e-05\n",
      "0.1315 1.802e-05\n",
      "0.1403 2.045e-05\n"
     ]
    }
   ],
   "source": [
    "# 0-5% cent.\n",
    "\n",
    "data = np.array([0.0473,0.067,0.084,0.0989,0.1128,0.1238,0.1315,0.1403])\n",
    "stat = np.array([0.0003,0.0003,0.0004,0.0005,0.0007,0.0009,0.0011,0.0014])\n",
    "sys = np.array([0.0019,0.0024,0.0029,0.0033,0.0036,0.0038,0.0041,0.0043])\n",
    "tot = np.sqrt(stat**2 + sys**2)\n",
    "\n",
    "for i in range(len(data)):\n",
    "    print(str(data[i]) + ' ' + str(np.round(tot[i]**2,10)))\n"
   ]
  },
  {
   "cell_type": "markdown",
   "id": "ae2f1ecd",
   "metadata": {},
   "source": [
    "### v3(pT) PHENIX"
   ]
  },
  {
   "cell_type": "code",
   "execution_count": 52,
   "id": "c3efb99e",
   "metadata": {},
   "outputs": [
    {
     "name": "stdout",
     "output_type": "stream",
     "text": [
      "0.0019 2.02e-06\n",
      "0.0055 8.21e-06\n",
      "0.0073 1.48e-05\n",
      "0.0095 2.554e-05\n",
      "0.0138 5.197e-05\n",
      "0.0168 7.769e-05\n",
      "0.0141 6.74e-05\n",
      "0.0153 8.84e-05\n"
     ]
    }
   ],
   "source": [
    "# 0-5% cent.\n",
    "\n",
    "data = np.array([0.0019,0.0055,0.0073,0.0095,0.0138,0.0168,0.0141,0.0153])\n",
    "stat = np.array([0.0011,0.0014,0.0018,0.0023,0.0029,0.0037,0.0046,0.0058])\n",
    "sys = np.array([0.0009,0.0025,0.0034,0.0045,0.0066,0.008,0.0068,0.0074])\n",
    "tot = np.sqrt(stat**2 + sys**2)\n",
    "\n",
    "for i in range(len(data)):\n",
    "    print(str(data[i]) + ' ' + str(np.round(tot[i]**2,10)))\n"
   ]
  },
  {
   "cell_type": "markdown",
   "id": "98b85983",
   "metadata": {},
   "source": [
    "### v2(pT) STAR"
   ]
  },
  {
   "cell_type": "code",
   "execution_count": 53,
   "id": "c12aab96",
   "metadata": {},
   "outputs": [],
   "source": [
    "# paper: https://arxiv.org/pdf/2210.11352\n",
    "# HEPData: https://www.hepdata.net/record/ins2167879 (Figure 3_c_d)\n",
    "\n",
    "bins = [0.3,0.5,0.7,0.95,1.25,1.55,1.85]\n"
   ]
  },
  {
   "cell_type": "code",
   "execution_count": 54,
   "id": "578390e8",
   "metadata": {},
   "outputs": [
    {
     "name": "stdout",
     "output_type": "stream",
     "text": [
      "0.0321728 3.60503e-05\n",
      "0.0512663 3.91914e-05\n",
      "0.0643103 4.6366e-05\n",
      "0.077625 7.76771e-05\n",
      "0.0872628 0.00010873\n",
      "0.0901931 0.0001360948\n",
      "0.0987698 0.0001726492\n"
     ]
    }
   ],
   "source": [
    "# 0-10% cent.\n",
    "\n",
    "data = np.array([0.0321728,0.0512663,0.0643103,0.077625,0.0872628,0.0901931,0.0987698])\n",
    "stat = np.array([0.000364483,0.000493617,0.000667222,0.000781858,0.0011693,0.00173254,0.0025138])\n",
    "sys = np.array([0.00599312,0.00624081,0.00677649,0.00877871,0.0103616,0.0115366,0.0128969])\n",
    "tot = np.sqrt(stat**2 + sys**2)\n",
    "\n",
    "for i in range(len(data)):\n",
    "    print(str(data[i]) + ' ' + str(np.round(tot[i]**2,10)))\n"
   ]
  },
  {
   "cell_type": "markdown",
   "id": "d4311f19",
   "metadata": {},
   "source": [
    "### v3(pT) STAR"
   ]
  },
  {
   "cell_type": "code",
   "execution_count": 55,
   "id": "a096b724",
   "metadata": {},
   "outputs": [
    {
     "name": "stdout",
     "output_type": "stream",
     "text": [
      "0.0040084 1.86684e-05\n",
      "0.0142015 3.52706e-05\n",
      "0.0219627 2.94884e-05\n",
      "0.0226653 4.22836e-05\n",
      "0.036967 0.0001115787\n",
      "0.0557926 0.0002149688\n",
      "0.0642744 0.0002406027\n"
     ]
    }
   ],
   "source": [
    "# 0-10% cent.\n",
    "\n",
    "data = np.array([0.0040084,0.0142015,0.0219627,0.0226653,0.036967,0.0557926,0.0642744])\n",
    "stat = np.array([0.00126137,0.00172694,0.00235211,0.0027213,0.00413798,0.00616843,0.00884442])\n",
    "sys = np.array([0.00413248,0.00568228,0.00489448,0.00590577,0.00971884,0.0133011,0.0127428])\n",
    "tot = np.sqrt(stat**2 + sys**2)\n",
    "\n",
    "for i in range(len(data)):\n",
    "    print(str(data[i]) + ' ' + str(np.round(tot[i]**2,10)))\n"
   ]
  },
  {
   "cell_type": "code",
   "execution_count": null,
   "id": "00e804d2",
   "metadata": {},
   "outputs": [],
   "source": []
  }
 ],
 "metadata": {
  "kernelspec": {
   "display_name": "Python 3 (ipykernel)",
   "language": "python",
   "name": "python3"
  },
  "language_info": {
   "codemirror_mode": {
    "name": "ipython",
    "version": 3
   },
   "file_extension": ".py",
   "mimetype": "text/x-python",
   "name": "python",
   "nbconvert_exporter": "python",
   "pygments_lexer": "ipython3",
   "version": "3.10.14"
  }
 },
 "nbformat": 4,
 "nbformat_minor": 5
}
